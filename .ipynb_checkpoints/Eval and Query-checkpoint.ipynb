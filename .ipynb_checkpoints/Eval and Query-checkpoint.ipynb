{
 "cells": [
  {
   "cell_type": "code",
   "execution_count": 1,
   "metadata": {},
   "outputs": [
    {
     "name": "stdout",
     "output_type": "stream",
     "text": [
      "[False  True  True ... False False False]\n",
      "____3.8582680225372314____\n"
     ]
    }
   ],
   "source": [
    "import time\n",
    "start_time=time.time()\n",
    "\n",
    "import numpy as np\n",
    "rng=np.random.RandomState(42)\n",
    "x=rng.rand(1000000)\n",
    "y=rng.rand(1000000)\n",
    "mask=(x>0.5)&(y<0.5)\n",
    "print(mask)\n",
    "print(\"____%s____\"%(time.time()-start_time))"
   ]
  },
  {
   "cell_type": "code",
   "execution_count": 3,
   "metadata": {},
   "outputs": [
    {
     "name": "stdout",
     "output_type": "stream",
     "text": [
      "[False  True  True ... False False False]\n",
      "_______0.05024600028991699 seconds\n"
     ]
    }
   ],
   "source": [
    "import numexpr\n",
    "start_time=time.time()\n",
    "\n",
    "rng=np.random.RandomState(42)\n",
    "x=rng.rand(1000000)\n",
    "y=rng.rand(1000000)\n",
    "mask_numexpr=numexpr.evaluate('(x>0.5)&(y<0.5)')\n",
    "print(mask_numexpr)\n",
    "\n",
    "print(\"_______%s seconds______\"%(time.time()-start_time))"
   ]
  },
  {
   "cell_type": "code",
   "execution_count": 13,
   "metadata": {},
   "outputs": [
    {
     "name": "stdout",
     "output_type": "stream",
     "text": [
      "_______0.024847745895385742 seconds______\n"
     ]
    }
   ],
   "source": [
    "import pandas as pd\n",
    "start_time=time.time()\n",
    "\n",
    "sdata=pd.read_csv(r'C:\\Users\\abine\\OneDrive\\Documents\\Datasets\\wine_quality\\winequality-red.csv',delimiter=';')\n",
    "\n",
    "print(\"_______%s seconds______\"%(time.time()-start_time))"
   ]
  },
  {
   "cell_type": "code",
   "execution_count": 9,
   "metadata": {
    "slideshow": {
     "slide_type": "-"
    }
   },
   "outputs": [],
   "source": [
    "df1=pd.DataFrame(sdata.iloc[:,8])\n",
    "df2=pd.DataFrame(sdata.iloc[:,10])\n",
    "df3=df1.copy()\n",
    "df4=df1.copy()"
   ]
  },
  {
   "cell_type": "code",
   "execution_count": 14,
   "metadata": {},
   "outputs": [
    {
     "name": "stdout",
     "output_type": "stream",
     "text": [
      "1.65 ms ± 33.8 µs per loop (mean ± std. dev. of 7 runs, 1000 loops each)\n",
      "_______13.40355658531189 seconds________\n"
     ]
    }
   ],
   "source": [
    "start_time=time.time()\n",
    "\n",
    "%timeit df2.T[0] + df3.iloc[1]\n",
    "\n",
    "print(\"_______%s seconds________\"%(time.time()-start_time))"
   ]
  },
  {
   "cell_type": "code",
   "execution_count": 17,
   "metadata": {},
   "outputs": [
    {
     "name": "stdout",
     "output_type": "stream",
     "text": [
      "93.2 ms ± 3.27 ms per loop (mean ± std. dev. of 7 runs, 10 loops each)\n",
      "_______7.619892358779907 seconds________\n"
     ]
    }
   ],
   "source": [
    "start_time=time.time()\n",
    "\n",
    "%timeit pd.eval('df2.T[0] + df3.iloc[1]')\n",
    "\n",
    "print(\"_______%s seconds________\"%(time.time()-start_time))"
   ]
  }
 ],
 "metadata": {
  "kernelspec": {
   "display_name": "Python 3",
   "language": "python",
   "name": "python3"
  },
  "language_info": {
   "codemirror_mode": {
    "name": "ipython",
    "version": 3
   },
   "file_extension": ".py",
   "mimetype": "text/x-python",
   "name": "python",
   "nbconvert_exporter": "python",
   "pygments_lexer": "ipython3",
   "version": "3.7.3"
  }
 },
 "nbformat": 4,
 "nbformat_minor": 2
}
