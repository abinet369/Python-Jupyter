{
 "cells": [
  {
   "cell_type": "code",
   "execution_count": 3,
   "metadata": {},
   "outputs": [
    {
     "data": {
      "text/plain": [
       "'it is a embedded progrming lang\\nrg ex\\npatterns\\n1.start & end\\n2.find a pattern ___\\n3.Validate\\nkeywords:\\nsearch(boolean),match(boolean values),findall(list)::: of matched patterns,span(tuple)\\nsub::::replace parts\\nsplit:::breaks into smaller pieces\\n########\\n\"test\"--->matches--->only the string\\'test\\'\\n\"[abc]\"--->a,b,c\\n\"[^abc]\"--->except a,b,c\\n\\n.---->everything as single single OR matches any single character\\n()--->can be used for grouping\\n+---> 1 or more ocuurences\\n*---->0 or more occurences\\neg:\"(abc)+\"--->\\'abc\\',\\'abcabc\\',\\'abcabcabc\\'...\\nx|y----> x OR Y\\n^,$ marks start and end respectively eg:^[6-9][0-9]{9}$\\n^[6-9]--->start with abc\\n[.christuniversity.in]$--->end with .christuniversity.in\\na*---->\\' \\',\\'a\\',aa,...\\na+---->a,aa,aaa\\na?--->\" \",\\'a\\'\\na{2,3}---->\\'aa\\' OR \\'aaa\\'\\n\\\\ or \\\\--->for space  but \\\\\\\\--->(consider)\\\\\\nso use r first like\\nr\\'^[6-9][0-9]{9}\\\\\\\\$\\n\\\\w-->alha numeric\\n\\\\d--->digits\\n'"
      ]
     },
     "execution_count": 3,
     "metadata": {},
     "output_type": "execute_result"
    }
   ],
   "source": [
    "'''it is a embedded progrming lang\n",
    "rg ex\n",
    "patterns\n",
    "1.start & end\n",
    "2.find a pattern ___\n",
    "3.Validate\n",
    "keywords:\n",
    "search(boolean),match(boolean values),findall(list)::: of matched patterns,span(tuple)\n",
    "sub::::replace parts\n",
    "split:::breaks into smaller pieces\n",
    "########\n",
    "\"test\"--->matches--->only the string'test'\n",
    "\"[abc]\"--->a,b,c\n",
    "\"[^abc]\"--->except a,b,c\n",
    "\n",
    ".---->everything as single single OR matches any single character\n",
    "()--->can be used for grouping\n",
    "+---> 1 or more ocuurences\n",
    "*---->0 or more occurences\n",
    "eg:\"(abc)+\"--->'abc','abcabc','abcabcabc'...\n",
    "x|y----> x OR Y\n",
    "^,$ marks start and end respectively eg:^[6-9][0-9]{9}$\n",
    "^[6-9]--->start with abc\n",
    "[.christuniversity.in]$--->end with .christuniversity.in\n",
    "a*---->' ','a',aa,...\n",
    "a+---->a,aa,aaa\n",
    "a?--->\" \",'a'\n",
    "a{2,3}---->'aa' OR 'aaa'\n",
    "\\ or \\\\--->for space  but \\\\\\\\--->(consider)\\\\\n",
    "so use r first like\n",
    "r'^[6-9][0-9]{9}\\\\\\$\n",
    "\\w-->alha numeric\n",
    "\\d--->digits\n",
    "'''"
   ]
  },
  {
   "cell_type": "code",
   "execution_count": 2,
   "metadata": {},
   "outputs": [
    {
     "name": "stdout",
     "output_type": "stream",
     "text": [
      "<re.Match object; span=(0, 1), match='P'>\n"
     ]
    }
   ],
   "source": [
    "import re\n",
    "pattern='Python regex is an important topic for the exams'\n",
    "\n",
    "a=re.search('.',pattern)\n",
    "print(a)"
   ]
  },
  {
   "cell_type": "code",
   "execution_count": null,
   "metadata": {},
   "outputs": [
    {
     "name": "stdout",
     "output_type": "stream",
     "text": [
      "Enter a Namefvsk\n"
     ]
    }
   ],
   "source": [
    "name=re.compile('^[A-Za-z]{2,5}')\n",
    "username=input('Enter a Name')\n",
    "if re.match(name,username):\n",
    "    print('username accepted')\n",
    "else:\n",
    "    print('OOPS')"
   ]
  },
  {
   "cell_type": "code",
   "execution_count": 6,
   "metadata": {},
   "outputs": [
    {
     "name": "stdout",
     "output_type": "stream",
     "text": [
      "Enter your n0greg\n",
      "O0o.PpSs\n"
     ]
    }
   ],
   "source": [
    "mob_no=re.compile('^[6-9][0-9]{9}')\n",
    "mobile=input('Enter your n0')\n",
    "if re.match(mob_no,mobile):\n",
    "    print(\"accepted\")\n",
    "else:\n",
    "    print(\"O0o.PpSs\")"
   ]
  },
  {
   "cell_type": "code",
   "execution_count": 16,
   "metadata": {},
   "outputs": [
    {
     "name": "stdout",
     "output_type": "stream",
     "text": [
      "Enter your mail:dvb\n",
      "O0o.PpSs\n"
     ]
    }
   ],
   "source": [
    "mail_c=re.compile('^\\w+([\\.-]?\\w+)*@\\w+([\\.-]?\\w+)*(\\.\\w{2,3})+$')\n",
    "mail=input('Enter your mail:')\n",
    "if re.match(mail_c,mail):\n",
    "    print(\"accepted\")\n",
    "else:\n",
    "    print(\"O0o.PpSs\")"
   ]
  }
 ],
 "metadata": {
  "kernelspec": {
   "display_name": "Python 3",
   "language": "python",
   "name": "python3"
  },
  "language_info": {
   "codemirror_mode": {
    "name": "ipython",
    "version": 3
   },
   "file_extension": ".py",
   "mimetype": "text/x-python",
   "name": "python",
   "nbconvert_exporter": "python",
   "pygments_lexer": "ipython3",
   "version": "3.7.3"
  }
 },
 "nbformat": 4,
 "nbformat_minor": 2
}
