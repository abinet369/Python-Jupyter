{
 "cells": [
  {
   "cell_type": "code",
   "execution_count": 1,
   "metadata": {},
   "outputs": [
    {
     "name": "stdout",
     "output_type": "stream",
     "text": [
      "------LOGIN------\n",
      "Enter the username:admin\n",
      "Enter the password:password\n",
      "LOGIN SUCCESSFULL\n"
     ]
    }
   ],
   "source": [
    "#TUPLE\n",
    "username=(\"admin\")\n",
    "password=(\"password\")\n",
    "i=0\n",
    "while(i<3):\n",
    "    print(\"------LOGIN------\")\n",
    "    e_username=input(\"Enter the username:\")\n",
    "    e_password=input(\"Enter the password:\")\n",
    "    if(e_username in username and e_password in password):\n",
    "        print(\"LOGIN SUCCESSFULL\")\n",
    "        break;\n",
    "    else:\n",
    "        n=2-i\n",
    "        print(\"WRONG!!!YOU HAVE\",n,\"ATTEMPTS LEFT\")\n",
    "    i+=1"
   ]
  },
  {
   "cell_type": "code",
   "execution_count": 6,
   "metadata": {},
   "outputs": [
    {
     "name": "stdout",
     "output_type": "stream",
     "text": [
      "FIRST NAME:manish\n",
      "LAST NAME:sumesh\n",
      "BIRTH YEAR1997\n",
      "SUGGESTED USERNAME: manish.4.sumesh.1997\n"
     ]
    }
   ],
   "source": [
    "#SETS\n",
    "fname=input(\"FIRST NAME:\")\n",
    "lname=input(\"LAST NAME:\")\n",
    "b_year=input(\"BIRTH YEAR\")\n",
    "no={'0','1','2','3','4','5','6','7','8','9'}\n",
    "sug_usr=fname+\".\"+no.pop()+\".\"+lname+\".\"+b_year\n",
    "print(\"SUGGESTED USERNAME:\",sug_usr)"
   ]
  },
  {
   "cell_type": "code",
   "execution_count": 5,
   "metadata": {},
   "outputs": [
    {
     "name": "stdout",
     "output_type": "stream",
     "text": [
      "Abin's CART: Book,Toy\n"
     ]
    }
   ],
   "source": [
    "#CLASS\n",
    "cart=[\"Book\",\"Toy\"]\n",
    "class slist:\n",
    "    def __init__(self,name):\n",
    "        self.name=name\n",
    "        self.cart=cart\n",
    "        self.info=name+\"'s\"+\" \"+\"CART:\"+\" \"+cart[0]+\",\"+cart[1]\n",
    "cus1=slist(\"Abin\")\n",
    "print(cus1.info)  "
   ]
  },
  {
   "cell_type": "code",
   "execution_count": 8,
   "metadata": {},
   "outputs": [
    {
     "name": "stdout",
     "output_type": "stream",
     "text": [
      "ENTER THE NAME:abin\n",
      "Enter the name:manish\n",
      "NAME: abin POSITION: OWNER\n",
      "NAME: manish POSITION: DELIVERY MAN\n"
     ]
    }
   ],
   "source": [
    "#INHERITANCE\n",
    "class Person: \n",
    "       \n",
    "    # All Persons  \n",
    "    def __init__(self, name): \n",
    "        self.name = name \n",
    "   \n",
    "    # To get name \n",
    "    def getName(self): \n",
    "        return self.name \n",
    "   \n",
    "    # To check if this person is employee \n",
    "    def isEmployee(self): \n",
    "        return (\"OWNER\")\n",
    "   \n",
    "   \n",
    "# Inherited or Sub class (Note Person in bracket) \n",
    "class Employee(Person): \n",
    "   \n",
    "    # Here we return true \n",
    "    def isEmployee(self): \n",
    "        return (\"DELIVERY MAN\")\n",
    "   \n",
    "# Main code \n",
    "emp1 = Person(input(\"OWNER NAME:\"))  \n",
    "emp2 = Employee(input(\"DELIVERY GUY NAME:\")) \n",
    "\n",
    "class details(Employee):\n",
    "    print(\"NAME:\",emp1.getName(),\"POSITION:\",emp1.isEmployee())\n",
    "    print(\"NAME:\",emp2.getName(),\"POSITION:\",emp2.isEmployee())"
   ]
  },
  {
   "cell_type": "code",
   "execution_count": 10,
   "metadata": {},
   "outputs": [
    {
     "name": "stdout",
     "output_type": "stream",
     "text": [
      "Entergdhg\n",
      "YOU CAN'T BUY MORE THAN 10 ITEMS AT A TIME\n"
     ]
    }
   ],
   "source": [
    "#ERROR HANDLING\n",
    "item=[\"a\",\"b\",\"c\",\"d\",\"f\",\"g\",\"eg\",\"erhg\",\"fs\",\"sd\"]\n",
    "try:\n",
    "    add=input(\"Enter\")\n",
    "    item.append(add)\n",
    "    n=len(item)\n",
    "    if(n>10):\n",
    "        raise exception\n",
    "    else:\n",
    "        print(\"Good to go\")\n",
    "except :\n",
    "    print(\"YOU CAN'T BUY MORE THAN 10 ITEMS AT A TIME\")\n",
    "\n"
   ]
  },
  {
   "cell_type": "code",
   "execution_count": 2,
   "metadata": {},
   "outputs": [
    {
     "name": "stdout",
     "output_type": "stream",
     "text": [
      "Enter Age:20\n",
      "OOPS\n",
      "Enter a NameAbin Emmanuvel\n",
      "username accepted\n",
      "Enter your n08281020743\n",
      "mobile no accepted\n",
      "Enter your mail:abinet369@gmail.com\n",
      "mail id accepted\n"
     ]
    }
   ],
   "source": [
    "#Regular Expression\n",
    "import re\n",
    "age=re.compile('^[2-9][1-9]')\n",
    "e_age=input(\"Enter Age:\")\n",
    "if re.match(age,e_age):\n",
    "    print('age accepted')\n",
    "else:\n",
    "    print('OOPS')\n",
    "\n",
    "name=re.compile('^[A-Za-z]{2,5}')\n",
    "username=input('Enter a Name')\n",
    "if re.match(name,username):\n",
    "    print('username accepted')\n",
    "else:\n",
    "    print('OOPS')\n",
    "    \n",
    "mob_no=re.compile('^[6-9][0-9]{9}')\n",
    "mobile=input('Enter your n0')\n",
    "if re.match(mob_no,mobile):\n",
    "    print(\"mobile no accepted\")\n",
    "else:\n",
    "    print(\"OOPS\")\n",
    "    \n",
    "mail_c=re.compile('^\\w+([\\.-]?\\w+)*@\\w+([\\.-]?\\w+)*(\\.\\w{2,3})+$')\n",
    "mail=input('Enter your mail:')\n",
    "if re.match(mail_c,mail):\n",
    "    print(\"mail id accepted\")\n",
    "else:\n",
    "    print(\"OOPS\")\n"
   ]
  }
 ],
 "metadata": {
  "kernelspec": {
   "display_name": "Python 3",
   "language": "python",
   "name": "python3"
  },
  "language_info": {
   "codemirror_mode": {
    "name": "ipython",
    "version": 3
   },
   "file_extension": ".py",
   "mimetype": "text/x-python",
   "name": "python",
   "nbconvert_exporter": "python",
   "pygments_lexer": "ipython3",
   "version": "3.7.3"
  }
 },
 "nbformat": 4,
 "nbformat_minor": 2
}
