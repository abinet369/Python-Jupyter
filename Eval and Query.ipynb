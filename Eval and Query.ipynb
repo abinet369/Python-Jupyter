{
 "cells": [
  {
   "cell_type": "code",
   "execution_count": 1,
   "metadata": {},
   "outputs": [
    {
     "name": "stdout",
     "output_type": "stream",
     "text": [
      "[False  True  True ... False False False]\n",
      "____0.27530813217163086____\n"
     ]
    }
   ],
   "source": [
    "import time\n",
    "start_time=time.time()\n",
    "\n",
    "import numpy as np\n",
    "rng=np.random.RandomState(42)\n",
    "x=rng.rand(1000000)\n",
    "y=rng.rand(1000000)\n",
    "mask=(x>0.5)&(y<0.5)\n",
    "print(mask)\n",
    "print(\"____%s____\"%(time.time()-start_time))"
   ]
  },
  {
   "cell_type": "code",
   "execution_count": 2,
   "metadata": {},
   "outputs": [
    {
     "name": "stdout",
     "output_type": "stream",
     "text": [
      "[False  True  True ... False False False]\n",
      "_______0.05324721336364746 seconds______\n"
     ]
    }
   ],
   "source": [
    "import numexpr\n",
    "start_time=time.time()\n",
    "\n",
    "rng=np.random.RandomState(42)\n",
    "x=rng.rand(1000000)\n",
    "y=rng.rand(1000000)\n",
    "mask_numexpr=numexpr.evaluate('(x>0.5)&(y<0.5)')\n",
    "print(mask_numexpr)\n",
    "\n",
    "print(\"_______%s seconds______\"%(time.time()-start_time))"
   ]
  },
  {
   "cell_type": "code",
   "execution_count": 3,
   "metadata": {},
   "outputs": [
    {
     "name": "stdout",
     "output_type": "stream",
     "text": [
      "_______0.02369403839111328 seconds______\n"
     ]
    }
   ],
   "source": [
    "import pandas as pd\n",
    "start_time=time.time()\n",
    "\n",
    "sdata=pd.read_csv(r'C:\\Users\\abine\\OneDrive\\Documents\\Datasets\\wine_quality\\winequality-red.csv',delimiter=';')\n",
    "\n",
    "print(\"_______%s seconds______\"%(time.time()-start_time))"
   ]
  },
  {
   "cell_type": "code",
   "execution_count": 4,
   "metadata": {
    "slideshow": {
     "slide_type": "-"
    }
   },
   "outputs": [],
   "source": [
    "df1=pd.DataFrame(sdata.iloc[:,8])\n",
    "df2=pd.DataFrame(sdata.iloc[:,10])\n",
    "df3=df1.copy()\n",
    "df4=df1.copy()"
   ]
  },
  {
   "cell_type": "code",
   "execution_count": 5,
   "metadata": {},
   "outputs": [
    {
     "name": "stdout",
     "output_type": "stream",
     "text": [
      "1.69 ms ± 56.8 µs per loop (mean ± std. dev. of 7 runs, 1000 loops each)\n",
      "_______13.80383038520813 seconds________\n"
     ]
    }
   ],
   "source": [
    "#TRADITIONAL METHOD\n",
    "start_time=time.time()\n",
    "\n",
    "%timeit df2.T[0] + df3.iloc[1]\n",
    "\n",
    "print(\"_______%s seconds________\"%(time.time()-start_time))"
   ]
  },
  {
   "cell_type": "code",
   "execution_count": 22,
   "metadata": {},
   "outputs": [
    {
     "name": "stdout",
     "output_type": "stream",
     "text": [
      "93.9 ms ± 4.29 ms per loop (mean ± std. dev. of 7 runs, 10 loops each)\n",
      "_______7.694525718688965 seconds________\n"
     ]
    }
   ],
   "source": [
    "#EVAL\n",
    "start_time=time.time()\n",
    "\n",
    "%timeit pd.eval('df2.T[0] + df3.iloc[1]')\n",
    "\n",
    "print(\"_______%s seconds________\"%(time.time()-start_time))"
   ]
  },
  {
   "cell_type": "code",
   "execution_count": 37,
   "metadata": {},
   "outputs": [
    {
     "name": "stdout",
     "output_type": "stream",
     "text": [
      "283 µs ± 10.7 µs per loop (mean ± std. dev. of 7 runs, 1000 loops each)\n",
      "_______2.3108747005462646 seconds________\n"
     ]
    }
   ],
   "source": [
    "start_time=time.time()\n",
    "\n",
    "%timeit sdata.Total=(sdata.alcohol * sdata.quality)\n",
    "\n",
    "print(\"_______%s seconds________\"%(time.time()-start_time))"
   ]
  },
  {
   "cell_type": "code",
   "execution_count": 40,
   "metadata": {},
   "outputs": [
    {
     "name": "stdout",
     "output_type": "stream",
     "text": [
      "2.39 ms ± 42.2 µs per loop (mean ± std. dev. of 7 runs, 100 loops each)\n",
      "_______1.9399280548095703 seconds________\n"
     ]
    }
   ],
   "source": [
    "start_time=time.time()\n",
    "\n",
    "%timeit sdata.Total=pd.eval('(sdata.alcohol * sdata.quality)')\n",
    "\n",
    "print(\"_______%s seconds________\"%(time.time()-start_time))"
   ]
  },
  {
   "cell_type": "code",
   "execution_count": 7,
   "metadata": {},
   "outputs": [],
   "source": [
    "#eval used for addition multiplication like that\n",
    "#while query is used to fetch data\n",
    "#so below code wont work\n",
    "#but next block will\n",
    "#result1=pd.eval('alcohol<5.0 & quality<7')"
   ]
  },
  {
   "cell_type": "code",
   "execution_count": 13,
   "metadata": {},
   "outputs": [
    {
     "name": "stdout",
     "output_type": "stream",
     "text": [
      "4.32 ms ± 133 µs per loop (mean ± std. dev. of 7 runs, 100 loops each)\n"
     ]
    }
   ],
   "source": [
    "#QUERY\n",
    "%timeit result2=sdata.query('alcohol<10 & quality<7')\n",
    "#print(result2)     #remove timeit and try printing"
   ]
  }
 ],
 "metadata": {
  "kernelspec": {
   "display_name": "Python 3",
   "language": "python",
   "name": "python3"
  },
  "language_info": {
   "codemirror_mode": {
    "name": "ipython",
    "version": 3
   },
   "file_extension": ".py",
   "mimetype": "text/x-python",
   "name": "python",
   "nbconvert_exporter": "python",
   "pygments_lexer": "ipython3",
   "version": "3.7.3"
  }
 },
 "nbformat": 4,
 "nbformat_minor": 2
}
