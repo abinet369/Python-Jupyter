{
 "cells": [
  {
   "cell_type": "code",
   "execution_count": 3,
   "metadata": {},
   "outputs": [
    {
     "name": "stdout",
     "output_type": "stream",
     "text": [
      "[1 2 3 4 5 6]\n",
      "[[1 2 3 4]\n",
      " [5 6 7 8]]\n",
      "[[ 1  2  3  4]\n",
      " [ 5  6  7  8]\n",
      " [ 9 10 11 12]]\n"
     ]
    }
   ],
   "source": [
    "'''\n",
    "ARRAY:::less space and time compared to list or list in list'''\n",
    "import numpy as np\n",
    "#1D\n",
    "arr1=np.array([1,2,3,4,5,6])\n",
    "print(arr1)\n",
    "#2D\n",
    "arr2=np.array([[1,2,3,4],[5,6,7,8]])\n",
    "print(arr2)\n",
    "'''\n",
    "images-->2D\n",
    "employees(row),31 days(colmn),month(layer)---->3D\n",
    "                                                 adding year---->4D\n",
    "'''\n",
    "arr3=np.array([(1,2,3,4),(5,6,7,8),(9,10,11,12)])\n",
    "print(arr3)"
   ]
  },
  {
   "cell_type": "code",
   "execution_count": 56,
   "metadata": {},
   "outputs": [
    {
     "name": "stdout",
     "output_type": "stream",
     "text": [
      "[0 0 0 0 0 0 0 0 0 0]\n",
      "[[[1 1 1 1 1]\n",
      "  [1 1 1 1 1]\n",
      "  [1 1 1 1 1]]\n",
      "\n",
      " [[1 1 1 1 1]\n",
      "  [1 1 1 1 1]\n",
      "  [1 1 1 1 1]]]\n",
      "[[3.14 3.14 3.14 3.14 3.14]\n",
      " [3.14 3.14 3.14 3.14 3.14]\n",
      " [3.14 3.14 3.14 3.14 3.14]]\n"
     ]
    }
   ],
   "source": [
    "a=np.zeros(10,dtype=int)   #dtype=int/float\n",
    "print(a)\n",
    "b=np.ones((3,5),dtype=int)    #default=float\n",
    "print(b)\n",
    "c=np.full((3,5),3.14)\n",
    "print(c)"
   ]
  },
  {
   "cell_type": "code",
   "execution_count": 45,
   "metadata": {},
   "outputs": [
    {
     "name": "stdout",
     "output_type": "stream",
     "text": [
      "[  0.  25.  50.  75. 100.]\n",
      "[ 0  1  2  3  4  5  6  7  8  9 10 11 12 13 14 15 16 17 18 19]\n"
     ]
    }
   ],
   "source": [
    "grid1=np.linspace(0,100,5)\n",
    "print(grid1)\n",
    "grid2=np.arange(20)\n",
    "print(grid2)\n",
    "#reshape to change matrix to multi dim"
   ]
  },
  {
   "cell_type": "code",
   "execution_count": 74,
   "metadata": {},
   "outputs": [
    {
     "name": "stdout",
     "output_type": "stream",
     "text": [
      "2\n",
      "(5, 5)\n",
      "25\n",
      "int32\n",
      "4\n",
      "100\n"
     ]
    }
   ],
   "source": [
    "'''\n",
    "ATTRIBUTES\n",
    "ndim-dim of array\n",
    "size-size\n",
    "shape-shape\n",
    "dtype-data type\n",
    "itemsize-size of each elmnts in bytes\n",
    "nbytes-list the size of whole array in bytes\n",
    "'''\n",
    "tim=np.ones((5,5),dtype=int)\n",
    "print(tim.ndim)\n",
    "print(tim.shape)\n",
    "print(tim.size)\n",
    "print(tim.dtype)\n",
    "print(tim.itemsize)\n",
    "print(tim.nbytes)"
   ]
  },
  {
   "cell_type": "code",
   "execution_count": 75,
   "metadata": {},
   "outputs": [
    {
     "name": "stdout",
     "output_type": "stream",
     "text": [
      "1\n",
      "[[1 1 1 1 1]\n",
      " [1 1 1 1 1]\n",
      " [1 1 1 1 1]\n",
      " [1 1 1 1 1]\n",
      " [1 1 1 1 1]]\n",
      "[[ 1  1  1  1  1]\n",
      " [ 1  1 20  1  1]\n",
      " [ 1  1  1  1  1]\n",
      " [ 1  1  1  1  1]\n",
      " [ 1  1  1  1  1]]\n"
     ]
    }
   ],
   "source": [
    "#Array Indexing\n",
    "b=tim[1,2]         #arr[3,4]\n",
    "print(b)\n",
    "print(tim)\n",
    "tim[1,2]=20        #arr[3,4]=25\n",
    "print(tim)"
   ]
  },
  {
   "cell_type": "code",
   "execution_count": 77,
   "metadata": {},
   "outputs": [
    {
     "name": "stdout",
     "output_type": "stream",
     "text": [
      "[[ 1  1  1]\n",
      " [ 1  1 20]]\n",
      "[[1 1]\n",
      " [1 1]\n",
      " [1 1]]\n",
      "[[ 1  1  1]\n",
      " [ 1 20  1]\n",
      " [ 1  1  1]\n",
      " [ 1  1  1]\n",
      " [ 1  1  1]]\n",
      "[[ 1  1  1  1  1]\n",
      " [ 1  1  1  1  1]\n",
      " [ 1  1  1  1  1]\n",
      " [ 1  1 20  1  1]\n",
      " [ 1  1  1  1  1]]\n"
     ]
    }
   ],
   "source": [
    "#Array Slicing\n",
    "print(tim[:2,:3]) #1st 2 rows & 1st 3 colmns\n",
    "print(tim[2:,3:])\n",
    "print(tim[:,::2]) #every othe col-alternative col\n",
    "print(tim[::-1,::-1])  #reverse the array"
   ]
  },
  {
   "cell_type": "code",
   "execution_count": 86,
   "metadata": {},
   "outputs": [
    {
     "name": "stdout",
     "output_type": "stream",
     "text": [
      "[[1 1 1]\n",
      " [1 1 1]\n",
      " [1 1 1]\n",
      " [1 1 1]\n",
      " [1 1 1]\n",
      " [1 1 1]\n",
      " [1 1 1]\n",
      " [1 1 1]\n",
      " [1 1 1]]\n"
     ]
    },
    {
     "data": {
      "text/plain": [
       "array([[[1, 1, 1],\n",
       "        [1, 1, 1],\n",
       "        [1, 1, 1]],\n",
       "\n",
       "       [[1, 1, 1],\n",
       "        [1, 1, 1],\n",
       "        [1, 1, 1]],\n",
       "\n",
       "       [[1, 1, 1],\n",
       "        [1, 1, 1],\n",
       "        [1, 1, 1]]])"
      ]
     },
     "execution_count": 86,
     "metadata": {},
     "output_type": "execute_result"
    }
   ],
   "source": [
    "#reshaping\n",
    "tim1=np.ones((9,3),dtype=int)\n",
    "print(tim1)\n",
    "tim1.reshape((3,3,3))"
   ]
  },
  {
   "cell_type": "code",
   "execution_count": 94,
   "metadata": {},
   "outputs": [
    {
     "name": "stdout",
     "output_type": "stream",
     "text": [
      "[[1 1 1]\n",
      " [1 1 1]\n",
      " [1 1 1]\n",
      " [1 1 1]\n",
      " [1 1 1]\n",
      " [1 1 1]\n",
      " [1 1 1]\n",
      " [1 1 1]\n",
      " [1 1 1]]\n",
      "[[[1 1 1]\n",
      "  [1 1 1]\n",
      "  [1 1 1]\n",
      "  [1 1 1]\n",
      "  [1 1 1]\n",
      "  [1 1 1]\n",
      "  [1 1 1]\n",
      "  [1 1 1]\n",
      "  [1 1 1]]]\n"
     ]
    }
   ],
   "source": [
    "#newasxis\n",
    "print(tim1)\n",
    "print(tim1[np.newaxis,:])"
   ]
  },
  {
   "cell_type": "code",
   "execution_count": 101,
   "metadata": {},
   "outputs": [
    {
     "name": "stdout",
     "output_type": "stream",
     "text": [
      "[[ 1  4  2]\n",
      " [ 4  5  6]\n",
      " [10 33 55]]\n",
      "55\n",
      "1\n",
      "120\n"
     ]
    }
   ],
   "source": [
    "#numpy ops\n",
    "'''\n",
    "min\n",
    "max\n",
    "sum\n",
    "sum of axis\n",
    "sqr root\n",
    "STD\n",
    "'''\n",
    "a=np.array([(1,4,2),(4,5,6),(10,33,55)])\n",
    "print(a)\n",
    "print(a.max())\n",
    "print(a.min())\n",
    "print(a.sum())"
   ]
  },
  {
   "cell_type": "code",
   "execution_count": 20,
   "metadata": {},
   "outputs": [
    {
     "name": "stdout",
     "output_type": "stream",
     "text": [
      "[12 15 18]\n",
      "[[1.         1.41421356 1.73205081]\n",
      " [2.         2.23606798 2.44948974]\n",
      " [2.64575131 2.82842712 3.        ]]\n",
      "[[1.         1.41421356 1.73205081]\n",
      " [2.         2.23606798 2.44948974]\n",
      " [2.64575131 2.82842712 3.        ]]\n",
      "2.581988897471611\n",
      "6.666666666666667\n"
     ]
    }
   ],
   "source": [
    "#axis\n",
    "#0=colmn\n",
    "#1=row\n",
    "print(a.sum(axis=0))\n",
    "#sqrt\n",
    "print(np.sqrt(a))\n",
    "print(np.absolute(np.sqrt(a)))\n",
    "#STD stndrd dev\n",
    "print(a.std())\n",
    "print(a.var())"
   ]
  },
  {
   "cell_type": "code",
   "execution_count": 34,
   "metadata": {},
   "outputs": [
    {
     "name": "stdout",
     "output_type": "stream",
     "text": [
      "[[1 2 3]\n",
      " [4 5 6]\n",
      " [7 8 9]]\n",
      "[[4 5 6]\n",
      " [7 8 9]\n",
      " [1 2 3]]\n",
      "[[ 5  7  9]\n",
      " [11 13 15]\n",
      " [ 8 10 12]]\n",
      "[[-3 -3 -3]\n",
      " [-3 -3 -3]\n",
      " [ 6  6  6]]\n",
      "[[ 4 10 18]\n",
      " [28 40 54]\n",
      " [ 7 16 27]]\n",
      "[[ 2  3  4]\n",
      " [ 5  6  7]\n",
      " [ 8  9 10]]\n",
      "[[False False False]\n",
      " [False False False]\n",
      " [ True  True  True]]\n",
      "[[ True  True  True]\n",
      " [ True  True  True]\n",
      " [False False False]]\n",
      "[[False False False]\n",
      " [False False False]\n",
      " [False False False]]\n",
      "9\n",
      "[1 2 3 4 5 6 7 8 9]\n",
      "2\n"
     ]
    }
   ],
   "source": [
    "a=np.array([[1,2,3],[4,5,6],[7,8,9]])\n",
    "b=np.array([[4,5,6],[7,8,9],[1,2,3]])\n",
    "print(a)\n",
    "print(b)\n",
    "print(a+b)\n",
    "print(a-b)\n",
    "print(a*b)\n",
    "print(a+1)\n",
    "print(a>b)\n",
    "print(a<b)\n",
    "print(a==b)\n",
    "print(np.count_nonzero(a))\n",
    "g=a[a>0] #masking-->to get the all values greater than 0 in array instead of boolean values\n",
    "print(g)"
   ]
  },
  {
   "cell_type": "code",
   "execution_count": 1,
   "metadata": {},
   "outputs": [
    {
     "ename": "NameError",
     "evalue": "name 'np' is not defined",
     "output_type": "error",
     "traceback": [
      "\u001b[1;31m---------------------------------------------------------------------------\u001b[0m",
      "\u001b[1;31mNameError\u001b[0m                                 Traceback (most recent call last)",
      "\u001b[1;32m<ipython-input-1-c76bf49dff72>\u001b[0m in \u001b[0;36m<module>\u001b[1;34m\u001b[0m\n\u001b[1;32m----> 1\u001b[1;33m \u001b[0mq\u001b[0m\u001b[1;33m=\u001b[0m\u001b[0mnp\u001b[0m\u001b[1;33m.\u001b[0m\u001b[0marray\u001b[0m\u001b[1;33m(\u001b[0m\u001b[1;33m[\u001b[0m\u001b[1;33m[\u001b[0m\u001b[1;36m2\u001b[0m\u001b[1;33m,\u001b[0m\u001b[1;36m3\u001b[0m\u001b[1;33m,\u001b[0m\u001b[1;36m3\u001b[0m\u001b[1;33m]\u001b[0m\u001b[1;33m,\u001b[0m\u001b[1;33m[\u001b[0m\u001b[1;36m3\u001b[0m\u001b[1;33m,\u001b[0m\u001b[1;36m2\u001b[0m\u001b[1;33m,\u001b[0m\u001b[1;36m3\u001b[0m\u001b[1;33m]\u001b[0m\u001b[1;33m,\u001b[0m\u001b[1;33m[\u001b[0m\u001b[1;36m3\u001b[0m\u001b[1;33m,\u001b[0m\u001b[1;36m3\u001b[0m\u001b[1;33m,\u001b[0m\u001b[1;36m2\u001b[0m\u001b[1;33m]\u001b[0m\u001b[1;33m]\u001b[0m\u001b[1;33m)\u001b[0m\u001b[1;33m\u001b[0m\u001b[1;33m\u001b[0m\u001b[0m\n\u001b[0m\u001b[0;32m      2\u001b[0m \u001b[0mprint\u001b[0m\u001b[1;33m(\u001b[0m\u001b[1;34m\"array\\n\"\u001b[0m\u001b[1;33m,\u001b[0m\u001b[0mq\u001b[0m\u001b[1;33m)\u001b[0m\u001b[1;33m\u001b[0m\u001b[1;33m\u001b[0m\u001b[0m\n\u001b[0;32m      3\u001b[0m \u001b[0mp\u001b[0m\u001b[1;33m=\u001b[0m\u001b[0mnp\u001b[0m\u001b[1;33m.\u001b[0m\u001b[0msum\u001b[0m\u001b[1;33m(\u001b[0m\u001b[0mq\u001b[0m\u001b[1;33m,\u001b[0m\u001b[0maxis\u001b[0m\u001b[1;33m=\u001b[0m\u001b[1;36m0\u001b[0m\u001b[1;33m)\u001b[0m\u001b[1;33m\u001b[0m\u001b[1;33m\u001b[0m\u001b[0m\n\u001b[0;32m      4\u001b[0m \u001b[0mprint\u001b[0m\u001b[1;33m(\u001b[0m\u001b[1;34m\"total colmn\\n\"\u001b[0m\u001b[1;33m,\u001b[0m\u001b[0mp\u001b[0m\u001b[1;33m)\u001b[0m\u001b[1;33m\u001b[0m\u001b[1;33m\u001b[0m\u001b[0m\n\u001b[0;32m      5\u001b[0m \u001b[0mv\u001b[0m\u001b[1;33m=\u001b[0m\u001b[0mnp\u001b[0m\u001b[1;33m.\u001b[0m\u001b[0msum\u001b[0m\u001b[1;33m(\u001b[0m\u001b[0mq\u001b[0m\u001b[1;33m==\u001b[0m\u001b[1;36m3\u001b[0m\u001b[1;33m,\u001b[0m\u001b[0maxis\u001b[0m\u001b[1;33m=\u001b[0m\u001b[1;36m0\u001b[0m\u001b[1;33m)\u001b[0m\u001b[1;33m\u001b[0m\u001b[1;33m\u001b[0m\u001b[0m\n",
      "\u001b[1;31mNameError\u001b[0m: name 'np' is not defined"
     ]
    }
   ],
   "source": [
    "q=np.array([[2,3,3],[3,2,3],[3,3,2]])\n",
    "print(\"array\\n\",q)\n",
    "p=np.sum(q,axis=0)\n",
    "print(\"total colmn\\n\",p)\n",
    "v=np.sum(q==3,axis=0)\n",
    "print(\"occurences\\n\",v)\n",
    "s=np.sum(q[q==3],axis=0)\n",
    "print(\"total of specific no\\n\",s)\n",
    "#w=np.sum(q==3,axis=0,initial=0)\n",
    "#print(\"total of specific no in colmn\\n\",w)"
   ]
  },
  {
   "cell_type": "code",
   "execution_count": 9,
   "metadata": {},
   "outputs": [
    {
     "name": "stdout",
     "output_type": "stream",
     "text": [
      "[[ 2  3  5]\n",
      " [ 6  7  8]\n",
      " [12 34 50]] \n",
      " [[ 1  4  2]\n",
      " [ 4  5  6]\n",
      " [10 33 55]]\n",
      "[[  3   7   7]\n",
      " [ 10  12  14]\n",
      " [ 22  67 105]]\n",
      "[[  3   7   7]\n",
      " [ 10  12  14]\n",
      " [ 22  67 105]]\n",
      "[[1 1 3]\n",
      " [2 2 2]\n",
      " [2 1 5]]\n",
      "[[1 1 3]\n",
      " [2 2 2]\n",
      " [2 1 5]]\n",
      "[[   2   12   10]\n",
      " [  24   35   48]\n",
      " [ 120 1122 2750]]\n",
      "[[   2   12   10]\n",
      " [  24   35   48]\n",
      " [ 120 1122 2750]]\n",
      "[[2.         0.75       2.5       ]\n",
      " [1.5        1.4        1.33333333]\n",
      " [1.2        1.03030303 0.90909091]]\n",
      "[[2.         0.75       2.5       ]\n",
      " [1.5        1.4        1.33333333]\n",
      " [1.2        1.03030303 0.90909091]]\n"
     ]
    }
   ],
   "source": [
    "a=np.array([(2,3,5),(6,7,8),(12,34,50)])\n",
    "b=np.array([(1,4,2),(4,5,6),(10,33,55)])\n",
    "print(a,'\\n',b)\n",
    "print(np.add(a,b))\n",
    "print(a+b)\n",
    "print(np.absolute(np.subtract(a,b)))\n",
    "print(np.absolute(a-b))\n",
    "print(np.multiply(a,b))\n",
    "print(a*b)\n",
    "print(np.divide(a,b))\n",
    "print(a/b)"
   ]
  },
  {
   "cell_type": "code",
   "execution_count": 70,
   "metadata": {},
   "outputs": [
    {
     "name": "stdout",
     "output_type": "stream",
     "text": [
      "[1 2 3 4 5 6 7 8 9]\n",
      "6 3 8\n",
      "[6 3 8]\n",
      "[[ 1  2  3  4]\n",
      " [ 5  6  7  8]\n",
      " [ 5 23 78  1]]\n",
      "7\n",
      "78\n"
     ]
    },
    {
     "data": {
      "text/plain": [
       "array([ 3,  7, 78])"
      ]
     },
     "execution_count": 70,
     "metadata": {},
     "output_type": "execute_result"
    }
   ],
   "source": [
    "#fancy indexing\n",
    "one_d=np.array([1,2,3,4,5,6,7,8,9])\n",
    "two_d=np.array([(1,2,3,4),(5,6,7,8),(5,23,78,1)])\n",
    "three_d=np.array([[(1,2,3,4),(5,6,7,8),(5,23,78,1)],[(5,6,7,8),(5,23,78,1),(1,2,3,4)],[(5,23,78,1),(1,2,3,4),(5,6,7,8)]])\n",
    "\n",
    "print(one_d)\n",
    "print(one_d[5],one_d[2],one_d[7])\n",
    "\n",
    "ind=[5,2,7]\n",
    "print(one_d[ind])\n",
    "\n",
    "print(two_d)\n",
    "print(two_d[1,2])\n",
    "print(two_d[2,2])\n",
    "\n",
    "row=[0,1,2]\n",
    "col=[2,2,2]\n",
    "two_d[row,col]"
   ]
  },
  {
   "cell_type": "code",
   "execution_count": 76,
   "metadata": {},
   "outputs": [
    {
     "name": "stdout",
     "output_type": "stream",
     "text": [
      "[[ 1  2  3  4]\n",
      " [ 5  6  7  8]\n",
      " [ 5 23 78  1]]\n",
      "[78  5 23]\n",
      "[[ 1  3]\n",
      " [ 5  7]\n",
      " [ 5 78]]\n"
     ]
    }
   ],
   "source": [
    "print(two_d)\n",
    "#combined indexing\n",
    "print(two_d[2,[2,0,1]]) #maths type opening brackets it will be (2,2),(2,0),(2,1)\n",
    "#combined slicing\n",
    "print(two_d[0:,[0,2]])"
   ]
  },
  {
   "cell_type": "code",
   "execution_count": 77,
   "metadata": {},
   "outputs": [
    {
     "name": "stdout",
     "output_type": "stream",
     "text": [
      "[-0.49067819  1.02621601 -0.2102414  -0.78503293  1.24425037 -1.64543763\n",
      " -0.64284442  0.52172263  1.98947785 -0.72331908]\n",
      "[6 5 5 3 9]\n"
     ]
    }
   ],
   "source": [
    "a=np.random.randn(10)\n",
    "print(a)\n",
    "\n",
    "a=np.random.randint(10,size=5)\n",
    "print(a)"
   ]
  },
  {
   "cell_type": "code",
   "execution_count": 97,
   "metadata": {},
   "outputs": [
    {
     "name": "stdout",
     "output_type": "stream",
     "text": [
      "[(1, 2., b'Hello') (2, 3., b'World')]\n",
      "[1 2]\n",
      "[2. 3.]\n"
     ]
    },
    {
     "data": {
      "text/plain": [
       "array([2., 3.], dtype=float32)"
      ]
     },
     "execution_count": 97,
     "metadata": {},
     "output_type": "execute_result"
    }
   ],
   "source": [
    "x=np.array([(1,2.,'Hello'),(2,3.,\"World\")],dtype=[('number','i4'),('decimal','f4'),('character','S10')])\n",
    "print(x)\n",
    "\n",
    "print(x['number'])\n",
    "print(x['decimal'])\n",
    "\n",
    "x['number']\n",
    "x['decimal']"
   ]
  }
 ],
 "metadata": {
  "kernelspec": {
   "display_name": "Python 3",
   "language": "python",
   "name": "python3"
  },
  "language_info": {
   "codemirror_mode": {
    "name": "ipython",
    "version": 3
   },
   "file_extension": ".py",
   "mimetype": "text/x-python",
   "name": "python",
   "nbconvert_exporter": "python",
   "pygments_lexer": "ipython3",
   "version": "3.7.3"
  }
 },
 "nbformat": 4,
 "nbformat_minor": 2
}
