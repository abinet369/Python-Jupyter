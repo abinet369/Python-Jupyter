{
 "cells": [
  {
   "cell_type": "code",
   "execution_count": 1,
   "metadata": {},
   "outputs": [],
   "source": [
    "import pandas as pd"
   ]
  },
  {
   "cell_type": "code",
   "execution_count": 13,
   "metadata": {},
   "outputs": [
    {
     "data": {
      "text/plain": [
       "0    0\n",
       "1    1\n",
       "2    2\n",
       "3    3\n",
       "4    4\n",
       "5    5\n",
       "dtype: int64"
      ]
     },
     "execution_count": 13,
     "metadata": {},
     "output_type": "execute_result"
    }
   ],
   "source": [
    "arr=[0,1,2,3,4,5]\n",
    "s1=pd.Series(arr)\n",
    "s1\n",
    "#leeft index rignht value"
   ]
  },
  {
   "cell_type": "code",
   "execution_count": 3,
   "metadata": {},
   "outputs": [
    {
     "data": {
      "text/plain": [
       "a    0\n",
       "b    1\n",
       "c    2\n",
       "d    3\n",
       "e    4\n",
       "f    5\n",
       "dtype: int64"
      ]
     },
     "execution_count": 3,
     "metadata": {},
     "output_type": "execute_result"
    }
   ],
   "source": [
    "order=['a','b','c','d','e','f']\n",
    "s2=pd.Series(arr,index=order)\n",
    "s2"
   ]
  },
  {
   "cell_type": "code",
   "execution_count": 4,
   "metadata": {},
   "outputs": [
    {
     "name": "stdout",
     "output_type": "stream",
     "text": [
      "a    0.772203\n",
      "b   -0.233340\n",
      "c    1.144190\n",
      "d   -0.346273\n",
      "e    1.483545\n",
      "dtype: float64\n",
      "1    0.772203\n",
      "2   -0.233340\n",
      "3    1.144190\n",
      "4   -0.346273\n",
      "5    1.483545\n",
      "dtype: float64\n"
     ]
    }
   ],
   "source": [
    "import numpy as np\n",
    "n=np.random.randn(5)\n",
    "index=['a','b','c','d','e']\n",
    "n=pd.Series(n,index=index)\n",
    "print(n)\n",
    "\n",
    "s7=n.index=[1,2,3,4,5]\n",
    "print(n)\n"
   ]
  },
  {
   "cell_type": "code",
   "execution_count": 5,
   "metadata": {},
   "outputs": [
    {
     "data": {
      "text/plain": [
       "1    {'a': [1, 2, 3]}\n",
       "2                   b\n",
       "3                   c\n",
       "4                   d\n",
       "dtype: object"
      ]
     },
     "execution_count": 5,
     "metadata": {},
     "output_type": "execute_result"
    }
   ],
   "source": [
    "d={1:{'a':[1,2,3]},2:'b',3:'c',4:'d'}\n",
    "s3=pd.Series(d)\n",
    "s3"
   ]
  },
  {
   "cell_type": "code",
   "execution_count": 6,
   "metadata": {},
   "outputs": [
    {
     "data": {
      "text/plain": [
       "1    a\n",
       "2    b\n",
       "3    c\n",
       "4    d\n",
       "dtype: object"
      ]
     },
     "execution_count": 6,
     "metadata": {},
     "output_type": "execute_result"
    }
   ],
   "source": [
    "d={1:'a',2:'b',3:'c',4:'d'}\n",
    "s3=pd.Series(d)\n",
    "s3"
   ]
  },
  {
   "cell_type": "code",
   "execution_count": 7,
   "metadata": {},
   "outputs": [
    {
     "data": {
      "text/plain": [
       "4    a\n",
       "3    b\n",
       "2    c\n",
       "1    d\n",
       "dtype: object"
      ]
     },
     "execution_count": 7,
     "metadata": {},
     "output_type": "execute_result"
    }
   ],
   "source": [
    "d={4:'a',3:'b',2:'c',1:'d'}\n",
    "s3=pd.Series(d)\n",
    "s3"
   ]
  },
  {
   "cell_type": "code",
   "execution_count": 8,
   "metadata": {},
   "outputs": [
    {
     "name": "stdout",
     "output_type": "stream",
     "text": [
      "0    0\n",
      "1    1\n",
      "2    2\n",
      "3    3\n",
      "4    4\n",
      "5    5\n",
      "dtype: int64\n",
      "0    0\n",
      "1    1\n",
      "2    2\n",
      "dtype: int64\n",
      "0    0\n",
      "1    1\n",
      "2    2\n",
      "3    3\n",
      "4    4\n",
      "dtype: int64\n",
      "4    4\n",
      "5    5\n",
      "dtype: int64\n",
      "4    4\n",
      "3    3\n",
      "2    2\n",
      "1    1\n",
      "0    0\n",
      "dtype: int64\n"
     ]
    }
   ],
   "source": [
    "#slicing\n",
    "print(s1)\n",
    "print(s1[:3])\n",
    "print(s1[:-1])\n",
    "print(s1[-2:])\n",
    "print(s1[-2::-1])"
   ]
  },
  {
   "cell_type": "code",
   "execution_count": 11,
   "metadata": {},
   "outputs": [
    {
     "name": "stdout",
     "output_type": "stream",
     "text": [
      "0    0\n",
      "1    1\n",
      "2    2\n",
      "3    3\n",
      "4    4\n",
      "5    5\n",
      "4    a\n",
      "3    b\n",
      "2    c\n",
      "1    d\n",
      "dtype: object\n",
      "0    0\n",
      "1    1\n",
      "2    2\n",
      "3    3\n",
      "5    5\n",
      "3    b\n",
      "2    c\n",
      "1    d\n",
      "dtype: object\n"
     ]
    },
    {
     "data": {
      "text/plain": [
       "0    0\n",
       "1    1\n",
       "2    2\n",
       "3    3\n",
       "4    4\n",
       "5    5\n",
       "dtype: int64"
      ]
     },
     "execution_count": 11,
     "metadata": {},
     "output_type": "execute_result"
    }
   ],
   "source": [
    "s4=s1.append(s3)\n",
    "print(s4)\n",
    "print(s4.drop([4,4]))\n",
    "s8=s1.copy()\n",
    "s8"
   ]
  },
  {
   "cell_type": "code",
   "execution_count": 49,
   "metadata": {},
   "outputs": [
    {
     "name": "stdout",
     "output_type": "stream",
     "text": [
      "1     6\n",
      "2     8\n",
      "3    10\n",
      "dtype: int64\n",
      "1   -4\n",
      "2   -4\n",
      "3   -4\n",
      "dtype: int64\n",
      "1     5\n",
      "2    12\n",
      "3    21\n",
      "dtype: int64\n",
      "1    0.200000\n",
      "2    0.333333\n",
      "3    0.428571\n",
      "dtype: float64\n"
     ]
    }
   ],
   "source": [
    "a={1:1,2:2,3:3}\n",
    "aa=pd.Series(a)\n",
    "b={1:5,2:6,3:7}\n",
    "bb=pd.Series(b)\n",
    "print(aa.add(bb))\n",
    "print(aa.sub(bb))\n",
    "print(aa.mul(bb))\n",
    "print(aa.div(bb))"
   ]
  },
  {
   "cell_type": "code",
   "execution_count": 50,
   "metadata": {},
   "outputs": [
    {
     "name": "stdout",
     "output_type": "stream",
     "text": [
      "median 6.0\n",
      "mean 6.0\n",
      "mode 0    5\n",
      "1    6\n",
      "2    7\n",
      "dtype: int64\n",
      "max 7\n",
      "min 5\n"
     ]
    }
   ],
   "source": [
    "print('median',bb.median())\n",
    "print('mean',bb.mean())\n",
    "print('mode',bb.mode())\n",
    "print('max',bb.max())\n",
    "print('min',bb.min())"
   ]
  },
  {
   "cell_type": "code",
   "execution_count": 51,
   "metadata": {},
   "outputs": [
    {
     "name": "stdout",
     "output_type": "stream",
     "text": [
      "1     a\n",
      "2    aa\n",
      "3     b\n",
      "4    bb\n",
      "5     c\n",
      "6    cc\n",
      "dtype: object\n",
      "s6[1] a\n",
      "s6[1:4] 2    aa\n",
      "3     b\n",
      "4    bb\n",
      "dtype: object\n",
      "1     a\n",
      "2    aa\n",
      "3     b\n",
      "4    bb\n",
      "dtype: object\n",
      "2    aa\n",
      "3     b\n",
      "4    bb\n",
      "dtype: object\n"
     ]
    }
   ],
   "source": [
    "#loc,iloc\n",
    "qq={1:'a',2:'aa',3:'b',4:'bb',5:'c',6:'cc'}\n",
    "s6=pd.Series(qq)\n",
    "print(s6)\n",
    "\n",
    "print(\"s6[1]\",s6[1])       #from key/label\n",
    "print(\"s6[1:4]\",s6[1:4])   #based on index\n",
    "#to avoid confusion\n",
    "print(s6.loc[1:4])       #based on key/label\n",
    "print(s6.iloc[1:4])     #based on index"
   ]
  },
  {
   "cell_type": "code",
   "execution_count": 52,
   "metadata": {},
   "outputs": [
    {
     "name": "stdout",
     "output_type": "stream",
     "text": [
      "DatetimeIndex(['2019-12-03 12:53:35.085929', '2019-12-04 12:53:35.085929',\n",
      "               '2019-12-05 12:53:35.085929', '2019-12-06 12:53:35.085929',\n",
      "               '2019-12-07 12:53:35.085929', '2019-12-08 12:53:35.085929'],\n",
      "              dtype='datetime64[ns]', freq='D')\n",
      "[[ 2.09826542 -0.61782401  0.92811082  0.54313513]\n",
      " [-0.40980537  0.48901358  0.60255889  0.86189685]\n",
      " [ 0.78097538  0.27036684  0.81291714 -0.70237917]\n",
      " [-0.88621092  1.14014632  1.51076319 -0.66838214]\n",
      " [-0.08093232  0.75075803 -0.4653232   0.5879682 ]\n",
      " [ 0.11764658  0.55718725 -1.0321149   0.6639993 ]]\n"
     ]
    },
    {
     "data": {
      "text/html": [
       "<div>\n",
       "<style scoped>\n",
       "    .dataframe tbody tr th:only-of-type {\n",
       "        vertical-align: middle;\n",
       "    }\n",
       "\n",
       "    .dataframe tbody tr th {\n",
       "        vertical-align: top;\n",
       "    }\n",
       "\n",
       "    .dataframe thead th {\n",
       "        text-align: right;\n",
       "    }\n",
       "</style>\n",
       "<table border=\"1\" class=\"dataframe\">\n",
       "  <thead>\n",
       "    <tr style=\"text-align: right;\">\n",
       "      <th></th>\n",
       "      <th>a</th>\n",
       "      <th>b</th>\n",
       "      <th>c</th>\n",
       "      <th>d</th>\n",
       "    </tr>\n",
       "  </thead>\n",
       "  <tbody>\n",
       "    <tr>\n",
       "      <th>2019-12-03 12:53:35.085929</th>\n",
       "      <td>2.098265</td>\n",
       "      <td>-0.617824</td>\n",
       "      <td>0.928111</td>\n",
       "      <td>0.543135</td>\n",
       "    </tr>\n",
       "    <tr>\n",
       "      <th>2019-12-04 12:53:35.085929</th>\n",
       "      <td>-0.409805</td>\n",
       "      <td>0.489014</td>\n",
       "      <td>0.602559</td>\n",
       "      <td>0.861897</td>\n",
       "    </tr>\n",
       "    <tr>\n",
       "      <th>2019-12-05 12:53:35.085929</th>\n",
       "      <td>0.780975</td>\n",
       "      <td>0.270367</td>\n",
       "      <td>0.812917</td>\n",
       "      <td>-0.702379</td>\n",
       "    </tr>\n",
       "    <tr>\n",
       "      <th>2019-12-06 12:53:35.085929</th>\n",
       "      <td>-0.886211</td>\n",
       "      <td>1.140146</td>\n",
       "      <td>1.510763</td>\n",
       "      <td>-0.668382</td>\n",
       "    </tr>\n",
       "    <tr>\n",
       "      <th>2019-12-07 12:53:35.085929</th>\n",
       "      <td>-0.080932</td>\n",
       "      <td>0.750758</td>\n",
       "      <td>-0.465323</td>\n",
       "      <td>0.587968</td>\n",
       "    </tr>\n",
       "    <tr>\n",
       "      <th>2019-12-08 12:53:35.085929</th>\n",
       "      <td>0.117647</td>\n",
       "      <td>0.557187</td>\n",
       "      <td>-1.032115</td>\n",
       "      <td>0.663999</td>\n",
       "    </tr>\n",
       "  </tbody>\n",
       "</table>\n",
       "</div>"
      ],
      "text/plain": [
       "                                   a         b         c         d\n",
       "2019-12-03 12:53:35.085929  2.098265 -0.617824  0.928111  0.543135\n",
       "2019-12-04 12:53:35.085929 -0.409805  0.489014  0.602559  0.861897\n",
       "2019-12-05 12:53:35.085929  0.780975  0.270367  0.812917 -0.702379\n",
       "2019-12-06 12:53:35.085929 -0.886211  1.140146  1.510763 -0.668382\n",
       "2019-12-07 12:53:35.085929 -0.080932  0.750758 -0.465323  0.587968\n",
       "2019-12-08 12:53:35.085929  0.117647  0.557187 -1.032115  0.663999"
      ]
     },
     "execution_count": 52,
     "metadata": {},
     "output_type": "execute_result"
    }
   ],
   "source": [
    "import numpy as np\n",
    "dates=pd.date_range('today',periods=6)\n",
    "print(dates)\n",
    "num_arr=np.random.randn(6,4)  #6 rows  4 colmns\n",
    "print(num_arr)\n",
    "col=['a','b','c','d']\n",
    "df=pd.DataFrame(num_arr,index=dates,columns=col)\n",
    "df"
   ]
  },
  {
   "cell_type": "code",
   "execution_count": 53,
   "metadata": {},
   "outputs": [
    {
     "name": "stdout",
     "output_type": "stream",
     "text": [
      "['a', 'b', 'c', 'd', 'e', 'f', 'g', 'h', 'i', 'j']\n",
      "      type  Number  visited\n",
      "a      cat     2.0      2.0\n",
      "b      dog     3.0      NaN\n",
      "c    snake     NaN      3.0\n",
      "d  giraffe     4.0      3.0\n",
      "e      cat     3.0      4.0\n",
      "f      dog     3.0      1.0\n",
      "g    snake     2.0      NaN\n",
      "h      cat     1.0      2.0\n",
      "i      dog     NaN      1.0\n",
      "j  giraffe     5.0      1.0\n"
     ]
    }
   ],
   "source": [
    "#from dict\n",
    "import numpy as np\n",
    "andata={'type':['cat','dog','snake','giraffe','cat','dog','snake','cat','dog','giraffe'],\n",
    "       'Number':[2,3,np.nan,4,3,3,2,1,np.nan,5],\n",
    "       'visited':[2,np.nan,3,3,4,1,np.nan,2,1,1]}\n",
    "labels=['a','b','c','d','e','f','g','h','i','j']\n",
    "print(labels)\n",
    "df2=pd.DataFrame(andata,index=labels)\n",
    "print(df2)"
   ]
  },
  {
   "cell_type": "code",
   "execution_count": 54,
   "metadata": {},
   "outputs": [
    {
     "name": "stdout",
     "output_type": "stream",
     "text": [
      "data type\n",
      " type        object\n",
      "Number     float64\n",
      "visited    float64\n",
      "dtype: object\n",
      "\n",
      "head\n",
      " <bound method NDFrame.head of       type  Number  visited\n",
      "a      cat     2.0      2.0\n",
      "b      dog     3.0      NaN\n",
      "c    snake     NaN      3.0\n",
      "d  giraffe     4.0      3.0\n",
      "e      cat     3.0      4.0\n",
      "f      dog     3.0      1.0\n",
      "g    snake     2.0      NaN\n",
      "h      cat     1.0      2.0\n",
      "i      dog     NaN      1.0\n",
      "j  giraffe     5.0      1.0>\n",
      "    type  Number  visited\n",
      "a    cat     2.0      2.0\n",
      "b    dog     3.0      NaN\n",
      "c  snake     NaN      3.0\n",
      "      type  Number  visited\n",
      "a      cat     2.0      2.0\n",
      "b      dog     3.0      NaN\n",
      "c    snake     NaN      3.0\n",
      "d  giraffe     4.0      3.0\n",
      "\n",
      "tail\n",
      "       type  Number  visited\n",
      "h      cat     1.0      2.0\n",
      "i      dog     NaN      1.0\n",
      "j  giraffe     5.0      1.0\n",
      "\n",
      "index Index(['a', 'b', 'c', 'd', 'e', 'f', 'g', 'h', 'i', 'j'], dtype='object')\n",
      "\n",
      "col\n",
      " Index(['type', 'Number', 'visited'], dtype='object')\n",
      "\n",
      "values\n",
      " [['cat' 2.0 2.0]\n",
      " ['dog' 3.0 nan]\n",
      " ['snake' nan 3.0]\n",
      " ['giraffe' 4.0 3.0]\n",
      " ['cat' 3.0 4.0]\n",
      " ['dog' 3.0 1.0]\n",
      " ['snake' 2.0 nan]\n",
      " ['cat' 1.0 2.0]\n",
      " ['dog' nan 1.0]\n",
      " ['giraffe' 5.0 1.0]]\n"
     ]
    }
   ],
   "source": [
    "#datatypes of array\n",
    "print('data type\\n',df2.dtypes)\n",
    "print('\\nhead\\n',df2.head)\n",
    "print(df2.head(3))\n",
    "df3=df2.head(4)\n",
    "print(df3)\n",
    "print('\\ntail\\n',df2.tail(3)) #last 10\n",
    "print('\\nindex',df2.index)\n",
    "print('\\ncol\\n',df2.columns)\n",
    "print('\\nvalues\\n',df2.values)"
   ]
  },
  {
   "cell_type": "code",
   "execution_count": 55,
   "metadata": {},
   "outputs": [
    {
     "name": "stdout",
     "output_type": "stream",
     "text": [
      "    type  Number  visited\n",
      "a  False   False    False\n",
      "b  False   False     True\n",
      "c  False    True    False\n",
      "d  False   False    False\n",
      "e  False   False    False\n",
      "f  False   False    False\n",
      "g  False   False     True\n",
      "h  False   False    False\n",
      "i  False    True    False\n",
      "j  False   False    False\n",
      "      type  Number  visited\n",
      "a      cat     2.0      2.0\n",
      "b      dog     3.0      1.5\n",
      "c    snake     NaN      3.0\n",
      "d  giraffe     4.0      1.5\n",
      "e      cat     3.0      4.0\n",
      "f      dog     3.0      1.0\n",
      "g    snake     2.0      NaN\n",
      "h      cat     1.0      2.0\n",
      "i      dog     NaN      1.0\n",
      "j  giraffe     5.0      1.0\n",
      "visited    2.666667\n",
      "dtype: float64\n",
      "         Number   visited\n",
      "count  8.000000  9.000000\n",
      "mean   2.875000  1.888889\n",
      "std    1.246423  1.024017\n",
      "min    1.000000  1.000000\n",
      "25%    2.000000  1.000000\n",
      "50%    3.000000  1.500000\n",
      "75%    3.250000  2.000000\n",
      "max    5.000000  4.000000\n"
     ]
    }
   ],
   "source": [
    "df4=df2.copy()\n",
    "print(df4.isnull())\n",
    "df4.loc[['b','d'],'visited']=1.5\n",
    "print(df4)\n",
    "meanvisit=df3[['visited']].mean()\n",
    "print(meanvisit)\n",
    "print(df4.describe())"
   ]
  },
  {
   "cell_type": "code",
   "execution_count": 56,
   "metadata": {},
   "outputs": [
    {
     "name": "stdout",
     "output_type": "stream",
     "text": [
      "         Number   visited\n",
      "count  8.000000  9.000000\n",
      "mean   2.875000  1.888889\n",
      "std    1.246423  1.024017\n",
      "min    1.000000  1.000000\n",
      "25%    2.000000  1.000000\n",
      "50%    3.000000  1.500000\n",
      "75%    3.250000  2.000000\n",
      "max    5.000000  4.000000\n",
      "           a    b      c        d    e    f      g    h    i        j\n",
      "type     cat  dog  snake  giraffe  cat  dog  snake  cat  dog  giraffe\n",
      "Number     2    3    NaN        4    3    3      2    1  NaN        5\n",
      "visited    2  1.5      3      1.5    4    1    NaN    2    1        1\n",
      "      type  Number  visited\n",
      "f      dog     3.0      1.0\n",
      "i      dog     NaN      1.0\n",
      "j  giraffe     5.0      1.0\n",
      "b      dog     3.0      1.5\n",
      "d  giraffe     4.0      1.5\n",
      "a      cat     2.0      2.0\n",
      "h      cat     1.0      2.0\n",
      "c    snake     NaN      3.0\n",
      "e      cat     3.0      4.0\n",
      "g    snake     2.0      NaN\n",
      "      type  Number  visited\n",
      "i      dog     NaN      1.0\n",
      "j  giraffe     5.0      1.0\n"
     ]
    }
   ],
   "source": [
    "#stats of df\n",
    "print(df4.describe())\n",
    "#transpose\n",
    "print(df4.T)\n",
    "print(df4.sort_values(by='visited'))\n",
    "#slicing df\n",
    "df4[1:3]\n",
    "sorted_v=df4.sort_values(by='visited')[1:3]\n",
    "print(sorted_v)"
   ]
  },
  {
   "cell_type": "code",
   "execution_count": 57,
   "metadata": {},
   "outputs": [
    {
     "name": "stdout",
     "output_type": "stream",
     "text": [
      "      type  Number  visited\n",
      "a      cat     2.0      2.0\n",
      "b      dog     3.0      1.5\n",
      "c    snake     NaN      3.0\n",
      "d  giraffe     4.0      1.5\n",
      "e      cat     3.0      4.0\n",
      "f      dog     3.0      1.0\n",
      "g    snake     2.0      NaN\n",
      "h      cat     1.0      2.0\n",
      "i      dog     NaN      1.0\n",
      "j  giraffe     5.0      1.0\n",
      "    type  Number  visited\n",
      "a  False   False    False\n",
      "b  False   False    False\n",
      "c  False    True    False\n",
      "d  False   False    False\n",
      "e  False   False    False\n",
      "f  False   False    False\n",
      "g  False   False     True\n",
      "h  False   False    False\n",
      "i  False    True    False\n",
      "j  False   False    False\n",
      "      type Number visited\n",
      "a      cat      2       2\n",
      "b      dog      3     1.5\n",
      "c    snake   Nooo       3\n",
      "d  giraffe      4     1.5\n",
      "e      cat      3       4\n",
      "f      dog      3       1\n",
      "g    snake      2    Nooo\n",
      "h      cat      1       2\n",
      "i      dog   Nooo       1\n",
      "j  giraffe      5       1\n",
      "      type  Number  visited\n",
      "a      cat     2.0      2.0\n",
      "b      dog     3.0      1.5\n",
      "c    snake     3.0      3.0\n",
      "d  giraffe     4.0      1.5\n",
      "e      cat     3.0      4.0\n",
      "f      dog     3.0      1.0\n",
      "g    snake     2.0      1.0\n",
      "h      cat     1.0      2.0\n",
      "i      dog     1.0      1.0\n",
      "j  giraffe     5.0      1.0\n",
      "    visited\n",
      "a  2.000000\n",
      "b  1.500000\n",
      "c  3.000000\n",
      "d  1.500000\n",
      "e  4.000000\n",
      "f  1.000000\n",
      "g  2.666667\n",
      "h  2.000000\n",
      "i  1.000000\n",
      "j  1.000000\n"
     ]
    },
    {
     "data": {
      "text/plain": [
       "visited    2.666667\n",
       "dtype: float64"
      ]
     },
     "execution_count": 57,
     "metadata": {},
     "output_type": "execute_result"
    }
   ],
   "source": [
    "print(df4)\n",
    "print(df4.isnull())\n",
    "print(df4.fillna('Nooo'))\n",
    "print(df4.fillna(method='ffill'))\n",
    "print(df4[['visited']].fillna(meanvisit))\n",
    "meanvisit"
   ]
  },
  {
   "cell_type": "code",
   "execution_count": 76,
   "metadata": {},
   "outputs": [
    {
     "name": "stdout",
     "output_type": "stream",
     "text": [
      "      type  Number  visited\n",
      "a      cat     2.0      2.0\n",
      "b      dog     3.0      1.5\n",
      "c    snake     NaN      3.0\n",
      "d  giraffe     4.0      1.5\n",
      "e      cat     3.0      4.0\n",
      "f      dog     3.0      1.0\n",
      "g    snake     2.0      NaN\n",
      "h      cat     1.0      2.0\n",
      "i      dog     NaN      1.0\n",
      "j  giraffe     5.0      1.0\n",
      "is na\n",
      "    type  Number  visited\n",
      "a  False   False    False\n",
      "b  False   False    False\n",
      "c  False    True    False\n",
      "d  False   False    False\n",
      "e  False   False    False\n",
      "f  False   False    False\n",
      "g  False   False     True\n",
      "h  False   False    False\n",
      "i  False    True    False\n",
      "j  False   False    False\n",
      "drop any row/col with any na\n",
      "      type  Number  visited\n",
      "a      cat     2.0      2.0\n",
      "b      dog     3.0      1.5\n",
      "d  giraffe     4.0      1.5\n",
      "e      cat     3.0      4.0\n",
      "f      dog     3.0      1.0\n",
      "h      cat     1.0      2.0\n",
      "j  giraffe     5.0      1.0\n",
      "original\n",
      "      type  Number  visited\n",
      "a      cat     2.0      2.0\n",
      "b      dog     3.0      1.5\n",
      "c    snake     NaN      3.0\n",
      "d  giraffe     4.0      1.5\n",
      "e      cat     3.0      4.0\n",
      "f      dog     3.0      1.0\n",
      "g    snake     2.0      NaN\n",
      "h      cat     1.0      2.0\n",
      "i      dog     NaN      1.0\n",
      "j  giraffe     5.0      1.0\n",
      "drop with inplace /thresh\n",
      "      type  Number  visited\n",
      "a      cat     2.0      2.0\n",
      "b      dog     3.0      1.5\n",
      "d  giraffe     4.0      1.5\n",
      "e      cat     3.0      4.0\n",
      "f      dog     3.0      1.0\n",
      "h      cat     1.0      2.0\n",
      "j  giraffe     5.0      1.0\n",
      "      type  Number  visited\n",
      "g    snake     2.0      NaN\n",
      "e      cat     3.0      4.0\n",
      "c    snake     NaN      3.0\n",
      "a      cat     2.0      2.0\n",
      "h      cat     1.0      2.0\n",
      "b      dog     3.0      1.5\n",
      "d  giraffe     4.0      1.5\n",
      "f      dog     3.0      1.0\n",
      "i      dog     NaN      1.0\n",
      "j  giraffe     5.0      1.0\n"
     ]
    }
   ],
   "source": [
    "print(df4)\n",
    "print(\"is na\")\n",
    "print(df4.isna())\n",
    "print(\"drop any row/col with any na\")\n",
    "df6=df4.dropna(how='any')\n",
    "print(df6)\n",
    "#DatFrameName.dropna(axis=0,how='any',thresh=None),subset=None,inplace=False\n",
    "print(\"original\")\n",
    "print(df4)\n",
    "print(\"drop with inplace /thresh\")\n",
    "df10=df4.copy()\n",
    "df10.dropna(how='any',inplace=True,thresh=3) #min 3 nan values to survive ,,#inplace df10 will be acffected\n",
    "#if 3--->0,1,2,3 nan  will survive \n",
    "print(df10)\n",
    "\n",
    "df11=df4.copy()\n",
    "print(df11.sort_values(by='visited',ascending=False,na_position='first')) #nan will com first in visited"
   ]
  },
  {
   "cell_type": "code",
   "execution_count": 3,
   "metadata": {},
   "outputs": [
    {
     "name": "stdout",
     "output_type": "stream",
     "text": [
      "           Area     Pop\n",
      "Andaman  432156  664645\n",
      "AP       789654  632133\n",
      "Kerala   456321  662323\n",
      "Kolkata  632541  564131\n",
      "TN       987456  112121\n",
      "MH       854769   63232\n",
      "____________________________\n",
      "Andaman    432156\n",
      "AP         789654\n",
      "Kerala     456321\n",
      "Kolkata    632541\n",
      "TN         987456\n",
      "MH         854769\n",
      "Name: Area, dtype: int64\n",
      "Andaman    432156\n",
      "AP         789654\n",
      "Kerala     456321\n",
      "Kolkata    632541\n",
      "TN         987456\n",
      "MH         854769\n",
      "Name: Area, dtype: int64\n",
      "           Area     Pop\n",
      "Andaman  432156  664645\n",
      "AP       789654  632133\n",
      "Kerala   456321  662323\n",
      "Kolkata  632541  564131\n",
      "TN       987456  112121\n",
      "MH       854769   63232\n"
     ]
    }
   ],
   "source": [
    "area=pd.Series({'Andaman':432156,'AP':789654,'Kerala':456321,'Kolkata':632541,'TN':987456,'MH':854769})\n",
    "pop=pd.Series({'Andaman':664645,'AP':632133,'Kerala':662323,'Kolkata':564131,'TN':112121,'MH':63232})       \n",
    "data=pd.DataFrame({'Area':area,'Pop':pop})\n",
    "print(data)\n",
    "\n",
    "#Retrieve\n",
    "print('____________________________')\n",
    "print(data['Area'])\n",
    "print(data.Area) #datatype showing\n",
    "print(data)      #stores data type also"
   ]
  },
  {
   "cell_type": "code",
   "execution_count": 14,
   "metadata": {},
   "outputs": [
    {
     "name": "stdout",
     "output_type": "stream",
     "text": [
      "________iloc___________\n",
      "           Area     Pop\n",
      "Andaman  432156  664645\n",
      "AP       789654  632133\n",
      "Kerala   456321  662323\n",
      "________loc___________\n",
      "Area       432156.000000\n",
      "Pop        664645.000000\n",
      "density         1.537975\n",
      "Name: Andaman, dtype: float64\n",
      "_________new col__________\n",
      "           Area     Pop   density\n",
      "Andaman  432156  664645  1.537975\n",
      "AP       789654  632133  0.800519\n",
      "Kerala   456321  662323  1.451441\n",
      "Kolkata  632541  564131  0.891849\n",
      "TN       987456  112121  0.113545\n",
      "MH       854769   63232  0.073976\n",
      "________ix___________\n",
      "           Area     Pop\n",
      "Andaman  432156  664645\n",
      "AP       789654  632133\n",
      "Kerala   456321  662323\n",
      "_________?__________\n",
      "           Area   density\n",
      "Andaman  432156  1.537975\n"
     ]
    },
    {
     "name": "stderr",
     "output_type": "stream",
     "text": [
      "C:\\ProgramData\\Anaconda3\\lib\\site-packages\\ipykernel_launcher.py:11: DeprecationWarning: \n",
      ".ix is deprecated. Please use\n",
      ".loc for label based indexing or\n",
      ".iloc for positional indexing\n",
      "\n",
      "See the documentation here:\n",
      "http://pandas.pydata.org/pandas-docs/stable/indexing.html#ix-indexer-is-deprecated\n",
      "  # This is added back by InteractiveShellApp.init_path()\n"
     ]
    }
   ],
   "source": [
    "#iloc,loc\n",
    "print('________iloc___________')\n",
    "print(data.iloc[:3,:2])\n",
    "print('________loc___________')\n",
    "print(data.loc['Andaman'])\n",
    "print('_________new col__________')\n",
    "#add new colmn with operation\n",
    "data['density']=data['Pop']/data['Area']\n",
    "print(data)\n",
    "print('________ix___________')\n",
    "print(data.ix[:3,:'Pop'])\n",
    "print('_________?__________')\n",
    "print(data.loc[data.density>1.5,['Area','density']])"
   ]
  },
  {
   "cell_type": "code",
   "execution_count": 5,
   "metadata": {},
   "outputs": [
    {
     "name": "stdout",
     "output_type": "stream",
     "text": [
      "           data1     data2\n",
      "a 2019  0.873125  0.835663\n",
      "  2018  0.246250  0.558033\n",
      "b 2019  0.766891  0.185471\n",
      "  2019  0.580514  0.592493\n"
     ]
    }
   ],
   "source": [
    "#hierarchial\n",
    "import numpy as np\n",
    "dataset=pd.DataFrame(np.random.rand(4,2),\n",
    "                    index=[['a','a','b','b'],[2019,2018,2019,2019]],\n",
    "                    columns=['data1','data2'])\n",
    "print(dataset)"
   ]
  },
  {
   "cell_type": "code",
   "execution_count": 23,
   "metadata": {},
   "outputs": [
    {
     "name": "stdout",
     "output_type": "stream",
     "text": [
      "           Area     Pop   density\n",
      "Andaman  432156  664645  1.537975\n",
      "AP       789654  632133  0.800519\n",
      "Kerala   456321  662323  1.451441\n",
      "Kolkata  632541  564131  0.891849\n",
      "TN       987456  112121  0.113545\n",
      "MH       854769   63232  0.073976\n"
     ]
    }
   ],
   "source": [
    "#dataframe file operations\n",
    "print(data)\n",
    "#save to file directory\n",
    "data.to_csv(r'C:/Users/abine/OneDrive/Documents/Datasets/city.csv')\n",
    "#to python working dir\n",
    "#data.to_csv('city2.csv')\n",
    "#data.to_excel('city3.xlsx',sheet_name='Sheet1')"
   ]
  },
  {
   "cell_type": "code",
   "execution_count": 3,
   "metadata": {},
   "outputs": [
    {
     "data": {
      "text/html": [
       "<div>\n",
       "<style scoped>\n",
       "    .dataframe tbody tr th:only-of-type {\n",
       "        vertical-align: middle;\n",
       "    }\n",
       "\n",
       "    .dataframe tbody tr th {\n",
       "        vertical-align: top;\n",
       "    }\n",
       "\n",
       "    .dataframe thead th {\n",
       "        text-align: right;\n",
       "    }\n",
       "</style>\n",
       "<table border=\"1\" class=\"dataframe\">\n",
       "  <thead>\n",
       "    <tr style=\"text-align: right;\">\n",
       "      <th></th>\n",
       "      <th>City</th>\n",
       "      <th>Area</th>\n",
       "      <th>Pop</th>\n",
       "      <th>Density</th>\n",
       "    </tr>\n",
       "  </thead>\n",
       "  <tbody>\n",
       "    <tr>\n",
       "      <th>0</th>\n",
       "      <td>Andaman</td>\n",
       "      <td>432156</td>\n",
       "      <td>664645</td>\n",
       "      <td>1.537975</td>\n",
       "    </tr>\n",
       "    <tr>\n",
       "      <th>1</th>\n",
       "      <td>AP</td>\n",
       "      <td>789654</td>\n",
       "      <td>632133</td>\n",
       "      <td>0.800519</td>\n",
       "    </tr>\n",
       "    <tr>\n",
       "      <th>2</th>\n",
       "      <td>Kerala</td>\n",
       "      <td>456321</td>\n",
       "      <td>662323</td>\n",
       "      <td>1.451441</td>\n",
       "    </tr>\n",
       "    <tr>\n",
       "      <th>3</th>\n",
       "      <td>Kolkata</td>\n",
       "      <td>632541</td>\n",
       "      <td>564131</td>\n",
       "      <td>0.891849</td>\n",
       "    </tr>\n",
       "    <tr>\n",
       "      <th>4</th>\n",
       "      <td>TN</td>\n",
       "      <td>987456</td>\n",
       "      <td>112121</td>\n",
       "      <td>0.113545</td>\n",
       "    </tr>\n",
       "    <tr>\n",
       "      <th>5</th>\n",
       "      <td>MH</td>\n",
       "      <td>854769</td>\n",
       "      <td>63232</td>\n",
       "      <td>0.073976</td>\n",
       "    </tr>\n",
       "  </tbody>\n",
       "</table>\n",
       "</div>"
      ],
      "text/plain": [
       "      City    Area     Pop   Density\n",
       "0  Andaman  432156  664645  1.537975\n",
       "1       AP  789654  632133  0.800519\n",
       "2   Kerala  456321  662323  1.451441\n",
       "3  Kolkata  632541  564131  0.891849\n",
       "4       TN  987456  112121  0.113545\n",
       "5       MH  854769   63232  0.073976"
      ]
     },
     "execution_count": 3,
     "metadata": {},
     "output_type": "execute_result"
    }
   ],
   "source": [
    "df_city=pd.read_csv(r'C:/Users/abine/OneDrive/Documents/Datasets/city.csv')\n",
    "df_city\n",
    "df_city.columns=['City','Area','Pop','Density']\n",
    "df_city"
   ]
  },
  {
   "cell_type": "code",
   "execution_count": 14,
   "metadata": {},
   "outputs": [
    {
     "name": "stdout",
     "output_type": "stream",
     "text": [
      "      Id  SepalLengthCm  SepalWidthCm  PetalLengthCm  PetalWidthCm  \\\n",
      "0      1            5.1           3.5            1.4           0.2   \n",
      "1      2            4.9           3.0            1.4           0.2   \n",
      "2      3            4.7           3.2            1.3           0.2   \n",
      "3      4            4.6           3.1            1.5           0.2   \n",
      "4      5            5.0           3.6            1.4           0.2   \n",
      "5      6            5.4           3.9            1.7           0.4   \n",
      "6      7            4.6           3.4            1.4           0.3   \n",
      "7      8            5.0           3.4            1.5           0.2   \n",
      "8      9            4.4           2.9            1.4           0.2   \n",
      "9     10            4.9           3.1            1.5           0.1   \n",
      "10    11            5.4           3.7            1.5           0.2   \n",
      "11    12            4.8           3.4            1.6           0.2   \n",
      "12    13            4.8           3.0            1.4           0.1   \n",
      "13    14            4.3           3.0            1.1           0.1   \n",
      "14    15            5.8           4.0            1.2           0.2   \n",
      "15    16            5.7           4.4            1.5           0.4   \n",
      "16    17            5.4           3.9            1.3           0.4   \n",
      "17    18            5.1           3.5            1.4           0.3   \n",
      "18    19            5.7           3.8            1.7           0.3   \n",
      "19    20            5.1           3.8            1.5           0.3   \n",
      "20    21            5.4           3.4            1.7           0.2   \n",
      "21    22            5.1           3.7            1.5           0.4   \n",
      "22    23            4.6           3.6            1.0           0.2   \n",
      "23    24            5.1           3.3            1.7           0.5   \n",
      "24    25            4.8           3.4            1.9           0.2   \n",
      "25    26            5.0           3.0            1.6           0.2   \n",
      "26    27            5.0           3.4            1.6           0.4   \n",
      "27    28            5.2           3.5            1.5           0.2   \n",
      "28    29            5.2           3.4            1.4           0.2   \n",
      "29    30            4.7           3.2            1.6           0.2   \n",
      "..   ...            ...           ...            ...           ...   \n",
      "120  121            6.9           3.2            5.7           2.3   \n",
      "121  122            5.6           2.8            4.9           2.0   \n",
      "122  123            7.7           2.8            6.7           2.0   \n",
      "123  124            6.3           2.7            4.9           1.8   \n",
      "124  125            6.7           3.3            5.7           2.1   \n",
      "125  126            7.2           3.2            6.0           1.8   \n",
      "126  127            6.2           2.8            4.8           1.8   \n",
      "127  128            6.1           3.0            4.9           1.8   \n",
      "128  129            6.4           2.8            5.6           2.1   \n",
      "129  130            7.2           3.0            5.8           1.6   \n",
      "130  131            7.4           2.8            6.1           1.9   \n",
      "131  132            7.9           3.8            6.4           2.0   \n",
      "132  133            6.4           2.8            5.6           2.2   \n",
      "133  134            6.3           2.8            5.1           1.5   \n",
      "134  135            6.1           2.6            5.6           1.4   \n",
      "135  136            7.7           3.0            6.1           2.3   \n",
      "136  137            6.3           3.4            5.6           2.4   \n",
      "137  138            6.4           3.1            5.5           1.8   \n",
      "138  139            6.0           3.0            4.8           1.8   \n",
      "139  140            6.9           3.1            5.4           2.1   \n",
      "140  141            6.7           3.1            5.6           2.4   \n",
      "141  142            6.9           3.1            5.1           2.3   \n",
      "142  143            5.8           2.7            5.1           1.9   \n",
      "143  144            6.8           3.2            5.9           2.3   \n",
      "144  145            6.7           3.3            5.7           2.5   \n",
      "145  146            6.7           3.0            5.2           2.3   \n",
      "146  147            6.3           2.5            5.0           1.9   \n",
      "147  148            6.5           3.0            5.2           2.0   \n",
      "148  149            6.2           3.4            5.4           2.3   \n",
      "149  150            5.9           3.0            5.1           1.8   \n",
      "\n",
      "            Species  \n",
      "0       Iris-setosa  \n",
      "1       Iris-setosa  \n",
      "2       Iris-setosa  \n",
      "3       Iris-setosa  \n",
      "4       Iris-setosa  \n",
      "5       Iris-setosa  \n",
      "6       Iris-setosa  \n",
      "7       Iris-setosa  \n",
      "8       Iris-setosa  \n",
      "9       Iris-setosa  \n",
      "10      Iris-setosa  \n",
      "11      Iris-setosa  \n",
      "12      Iris-setosa  \n",
      "13      Iris-setosa  \n",
      "14      Iris-setosa  \n",
      "15      Iris-setosa  \n",
      "16      Iris-setosa  \n",
      "17      Iris-setosa  \n",
      "18      Iris-setosa  \n",
      "19      Iris-setosa  \n",
      "20      Iris-setosa  \n",
      "21      Iris-setosa  \n",
      "22      Iris-setosa  \n",
      "23      Iris-setosa  \n",
      "24      Iris-setosa  \n",
      "25      Iris-setosa  \n",
      "26      Iris-setosa  \n",
      "27      Iris-setosa  \n",
      "28      Iris-setosa  \n",
      "29      Iris-setosa  \n",
      "..              ...  \n",
      "120  Iris-virginica  \n",
      "121  Iris-virginica  \n",
      "122  Iris-virginica  \n",
      "123  Iris-virginica  \n",
      "124  Iris-virginica  \n",
      "125  Iris-virginica  \n",
      "126  Iris-virginica  \n",
      "127  Iris-virginica  \n",
      "128  Iris-virginica  \n",
      "129  Iris-virginica  \n",
      "130  Iris-virginica  \n",
      "131  Iris-virginica  \n",
      "132  Iris-virginica  \n",
      "133  Iris-virginica  \n",
      "134  Iris-virginica  \n",
      "135  Iris-virginica  \n",
      "136  Iris-virginica  \n",
      "137  Iris-virginica  \n",
      "138  Iris-virginica  \n",
      "139  Iris-virginica  \n",
      "140  Iris-virginica  \n",
      "141  Iris-virginica  \n",
      "142  Iris-virginica  \n",
      "143  Iris-virginica  \n",
      "144  Iris-virginica  \n",
      "145  Iris-virginica  \n",
      "146  Iris-virginica  \n",
      "147  Iris-virginica  \n",
      "148  Iris-virginica  \n",
      "149  Iris-virginica  \n",
      "\n",
      "[150 rows x 6 columns]\n"
     ]
    },
    {
     "data": {
      "text/plain": [
       "pandas.core.frame.DataFrame"
      ]
     },
     "execution_count": 14,
     "metadata": {},
     "output_type": "execute_result"
    }
   ],
   "source": [
    "iris=pd.read_csv(r'C:\\Users\\abine\\OneDrive\\Documents\\Datasets\\Iris\\Iris.csv')\n",
    "iris\n",
    "#if data frame is a single col/row squeezw will convert it into series\n",
    "iris2=pd.read_csv(r'C:\\Users\\abine\\OneDrive\\Documents\\Datasets\\Iris\\Iris.csv',squeeze=True)\n",
    "print(iris2)\n",
    "type(iris2)"
   ]
  },
  {
   "cell_type": "code",
   "execution_count": 34,
   "metadata": {},
   "outputs": [
    {
     "name": "stdout",
     "output_type": "stream",
     "text": [
      "        Id  SepalLengthCm  SepalWidthCm  PetalLengthCm  PetalWidthCm  Species\n",
      "0    False          False         False          False         False    False\n",
      "1    False          False         False          False         False    False\n",
      "2    False          False         False          False         False    False\n",
      "3    False          False         False          False         False    False\n",
      "4    False          False         False          False         False    False\n",
      "5    False          False         False          False         False    False\n",
      "6    False          False         False          False         False    False\n",
      "7    False          False         False          False         False    False\n",
      "8    False          False         False          False         False    False\n",
      "9    False          False         False          False         False    False\n",
      "10   False          False         False          False         False    False\n",
      "11   False          False         False          False         False    False\n",
      "12   False          False         False          False         False    False\n",
      "13   False          False         False          False         False    False\n",
      "14   False          False         False          False         False    False\n",
      "15   False          False         False          False         False    False\n",
      "16   False          False         False          False         False    False\n",
      "17   False          False         False          False         False    False\n",
      "18   False          False         False          False         False    False\n",
      "19   False          False         False          False         False    False\n",
      "20   False          False         False          False         False    False\n",
      "21   False          False         False          False         False    False\n",
      "22   False          False         False          False         False    False\n",
      "23   False          False         False          False         False    False\n",
      "24   False          False         False          False         False    False\n",
      "25   False          False         False          False         False    False\n",
      "26   False          False         False          False         False    False\n",
      "27   False          False         False          False         False    False\n",
      "28   False          False         False          False         False    False\n",
      "29   False          False         False          False         False    False\n",
      "..     ...            ...           ...            ...           ...      ...\n",
      "120  False          False         False          False         False    False\n",
      "121  False          False         False          False         False    False\n",
      "122  False          False         False          False         False    False\n",
      "123  False          False         False          False         False    False\n",
      "124  False          False         False          False         False    False\n",
      "125  False          False         False          False         False    False\n",
      "126  False          False         False          False         False    False\n",
      "127  False          False         False          False         False    False\n",
      "128  False          False         False          False         False    False\n",
      "129  False          False         False          False         False    False\n",
      "130  False          False         False          False         False    False\n",
      "131  False          False         False          False         False    False\n",
      "132  False          False         False          False         False    False\n",
      "133  False          False         False          False         False    False\n",
      "134  False          False         False          False         False    False\n",
      "135  False          False         False          False         False    False\n",
      "136  False          False         False          False         False    False\n",
      "137  False          False         False          False         False    False\n",
      "138  False          False         False          False         False    False\n",
      "139  False          False         False          False         False    False\n",
      "140  False          False         False          False         False    False\n",
      "141  False          False         False          False         False    False\n",
      "142  False          False         False          False         False    False\n",
      "143  False          False         False          False         False    False\n",
      "144  False          False         False          False         False    False\n",
      "145  False          False         False          False         False    False\n",
      "146  False          False         False          False         False    False\n",
      "147  False          False         False          False         False    False\n",
      "148  False          False         False          False         False    False\n",
      "149  False          False         False          False         False    False\n",
      "\n",
      "[150 rows x 6 columns]\n"
     ]
    }
   ],
   "source": [
    "print(iris.isnull())"
   ]
  },
  {
   "cell_type": "code",
   "execution_count": 5,
   "metadata": {},
   "outputs": [
    {
     "name": "stdout",
     "output_type": "stream",
     "text": [
      "__________mean____________\n",
      "                    Id  SepalLengthCm  SepalWidthCm  PetalLengthCm  \\\n",
      "Species                                                              \n",
      "Iris-setosa       25.5          5.006         3.418          1.464   \n",
      "Iris-versicolor   75.5          5.936         2.770          4.260   \n",
      "Iris-virginica   125.5          6.588         2.974          5.552   \n",
      "\n",
      "                 PetalWidthCm  \n",
      "Species                        \n",
      "Iris-setosa             0.244  \n",
      "Iris-versicolor         1.326  \n",
      "Iris-virginica          2.026  \n",
      "__________sum____________\n",
      "                   Id  SepalLengthCm  SepalWidthCm  PetalLengthCm  \\\n",
      "Species                                                             \n",
      "Iris-setosa      1275          250.3         170.9           73.2   \n",
      "Iris-versicolor  3775          296.8         138.5          213.0   \n",
      "Iris-virginica   6275          329.4         148.7          277.6   \n",
      "\n",
      "                 PetalWidthCm  \n",
      "Species                        \n",
      "Iris-setosa              12.2  \n",
      "Iris-versicolor          66.3  \n",
      "Iris-virginica          101.3  \n",
      "__________median____________\n",
      "                    Id  SepalLengthCm  SepalWidthCm  PetalLengthCm  \\\n",
      "Species                                                              \n",
      "Iris-setosa       25.5            5.0           3.4           1.50   \n",
      "Iris-versicolor   75.5            5.9           2.8           4.35   \n",
      "Iris-virginica   125.5            6.5           3.0           5.55   \n",
      "\n",
      "                 PetalWidthCm  \n",
      "Species                        \n",
      "Iris-setosa               0.2  \n",
      "Iris-versicolor           1.3  \n",
      "Iris-virginica            2.0  \n"
     ]
    },
    {
     "data": {
      "text/plain": [
       "5.843333333333335"
      ]
     },
     "execution_count": 5,
     "metadata": {},
     "output_type": "execute_result"
    }
   ],
   "source": [
    "#group by\n",
    "print(\"__________mean____________\")\n",
    "print(iris.groupby(iris['Species']).mean())\n",
    "print(\"__________sum____________\")\n",
    "print(iris.groupby(iris['Species']).sum())\n",
    "print(\"__________median____________\")\n",
    "print(iris.groupby(iris['Species']).median())\n",
    "\n",
    "iris['SepalLengthCm'].mean()"
   ]
  },
  {
   "cell_type": "code",
   "execution_count": 62,
   "metadata": {},
   "outputs": [
    {
     "name": "stdout",
     "output_type": "stream",
     "text": [
      "___________summarise____________\n",
      "               Id  SepalLengthCm  SepalWidthCm  PetalLengthCm  PetalWidthCm\n",
      "count  150.000000     150.000000    150.000000     150.000000    150.000000\n",
      "mean    75.500000       5.843333      3.054000       3.758667      1.198667\n",
      "std     43.445368       0.828066      0.433594       1.764420      0.763161\n",
      "min      1.000000       4.300000      2.000000       1.000000      0.100000\n",
      "25%     38.250000       5.100000      2.800000       1.600000      0.300000\n",
      "50%     75.500000       5.800000      3.000000       4.350000      1.300000\n",
      "75%    112.750000       6.400000      3.300000       5.100000      1.800000\n",
      "max    150.000000       7.900000      4.400000       6.900000      2.500000\n",
      "___________summarise manually____________\n",
      "count of obs: 150\n",
      "__________max____________\n",
      "max of each col SepalLengthCm    7.9\n",
      "PetalLengthCm    6.9\n",
      "SepalWidthCm     4.4\n",
      "PetalWidthCm     2.5\n",
      "dtype: float64\n",
      "__________what max length_____________\n",
      "max value of 1 column 7.9\n",
      "__________How many values for each specxies___________\n",
      "count value for each species Iris-virginica     50\n",
      "Iris-versicolor    50\n",
      "Iris-setosa        50\n",
      "Name: Species, dtype: int64\n",
      "_________________no. of null unique sepal len and petal len_______________________\n",
      "non-null unique sepal & petal len: SepalLengthCm    35\n",
      "PetalLengthCm    43\n",
      "dtype: int64\n",
      "___________________STD of sepal & petal len_________________________\n",
      "0.8280661279778629\n",
      "1.7644204199522617\n",
      "SepalLengthCm    0.828066\n",
      "PetalLengthCm    1.764420\n",
      "dtype: float64\n",
      "___________________mode_________________________\n",
      "   SepalLengthCm  PetalLengthCm\n",
      "0            5.0            1.5\n"
     ]
    }
   ],
   "source": [
    "print('___________summarise____________')\n",
    "print(iris.describe())\n",
    "print('___________summarise manually____________')\n",
    "count=iris['SepalLengthCm'].count()\n",
    "print(\"count of obs:\",count)\n",
    "print(\"__________max____________\")\n",
    "max=iris[['SepalLengthCm','PetalLengthCm','SepalWidthCm','PetalWidthCm']].max()\n",
    "print(\"max of each col\",max)\n",
    "print('__________what max length_____________')\n",
    "max1=iris['SepalLengthCm'].max()\n",
    "print(\"max value of 1 column\",max1)\n",
    "print(\"__________How many values for each specxies___________\")\n",
    "counts=iris['Species'].value_counts()\n",
    "print('count value for each species',counts)\n",
    "print(\"_________________no. of null unique sepal len and petal len_______________________\")\n",
    "uni=iris[['SepalLengthCm','PetalLengthCm']].nunique()\n",
    "print(\"non-null unique sepal & petal len:\",uni)\n",
    "print(\"___________________STD of sepal & petal len_________________________\")\n",
    "print(iris[\"SepalLengthCm\"].std())\n",
    "print(iris[\"PetalLengthCm\"].std())\n",
    "print(iris[[\"SepalLengthCm\",\"PetalLengthCm\"]].std())\n",
    "print(\"___________________mode_________________________\")\n",
    "print(iris[[\"SepalLengthCm\",\"PetalLengthCm\"]].mode())"
   ]
  },
  {
   "cell_type": "code",
   "execution_count": 16,
   "metadata": {
    "scrolled": true
   },
   "outputs": [
    {
     "name": "stdout",
     "output_type": "stream",
     "text": [
      "dict_keys([4.3, 4.4, 4.5, 4.6, 4.7, 4.8, 4.9, 5.0, 5.1, 5.2, 5.3, 5.4, 5.5, 5.6, 5.7, 5.8, 5.9, 6.0, 6.1, 6.2, 6.3, 6.4, 6.5, 6.6, 6.7, 6.8, 6.9, 7.0, 7.1, 7.2, 7.3, 7.4, 7.6, 7.7, 7.9])\n",
      "__________________\n",
      "dict_keys(['Iris-setosa', 'Iris-versicolor', 'Iris-virginica'])\n",
      "__________________\n",
      "counts of group 5.0: 10\n"
     ]
    }
   ],
   "source": [
    "#groupby() functn returns agrpby obj- how the rows of original data set has been split\n",
    "#grps variable is a dict whose keys are the computed unique grps\n",
    "\n",
    "iris_grup=iris.groupby(['SepalLengthCm']).groups.keys()\n",
    "print(iris_grup)\n",
    "print(\"__________________\")\n",
    "iris_grup=iris.groupby(['Species']).groups.keys()\n",
    "print(iris_grup)\n",
    "print(\"__________________\")\n",
    "\n",
    "counts_group=len(iris.groupby(['SepalLengthCm']).groups[5])\n",
    "print(\"counts of group 5.0:\",counts_group)"
   ]
  },
  {
   "cell_type": "code",
   "execution_count": 41,
   "metadata": {},
   "outputs": [
    {
     "data": {
      "text/html": [
       "<div>\n",
       "<style scoped>\n",
       "    .dataframe tbody tr th:only-of-type {\n",
       "        vertical-align: middle;\n",
       "    }\n",
       "\n",
       "    .dataframe tbody tr th {\n",
       "        vertical-align: top;\n",
       "    }\n",
       "\n",
       "    .dataframe thead th {\n",
       "        text-align: right;\n",
       "    }\n",
       "</style>\n",
       "<table border=\"1\" class=\"dataframe\">\n",
       "  <thead>\n",
       "    <tr style=\"text-align: right;\">\n",
       "      <th></th>\n",
       "      <th>Id</th>\n",
       "      <th>SepalLengthCm</th>\n",
       "      <th>SepalWidthCm</th>\n",
       "      <th>PetalLengthCm</th>\n",
       "      <th>PetalWidthCm</th>\n",
       "      <th>Species</th>\n",
       "    </tr>\n",
       "  </thead>\n",
       "  <tbody>\n",
       "    <tr>\n",
       "      <th>4</th>\n",
       "      <td>5</td>\n",
       "      <td>5.0</td>\n",
       "      <td>3.6</td>\n",
       "      <td>1.4</td>\n",
       "      <td>0.2</td>\n",
       "      <td>Iris-setosa</td>\n",
       "    </tr>\n",
       "    <tr>\n",
       "      <th>7</th>\n",
       "      <td>8</td>\n",
       "      <td>5.0</td>\n",
       "      <td>3.4</td>\n",
       "      <td>1.5</td>\n",
       "      <td>0.2</td>\n",
       "      <td>Iris-setosa</td>\n",
       "    </tr>\n",
       "    <tr>\n",
       "      <th>25</th>\n",
       "      <td>26</td>\n",
       "      <td>5.0</td>\n",
       "      <td>3.0</td>\n",
       "      <td>1.6</td>\n",
       "      <td>0.2</td>\n",
       "      <td>Iris-setosa</td>\n",
       "    </tr>\n",
       "    <tr>\n",
       "      <th>26</th>\n",
       "      <td>27</td>\n",
       "      <td>5.0</td>\n",
       "      <td>3.4</td>\n",
       "      <td>1.6</td>\n",
       "      <td>0.4</td>\n",
       "      <td>Iris-setosa</td>\n",
       "    </tr>\n",
       "    <tr>\n",
       "      <th>35</th>\n",
       "      <td>36</td>\n",
       "      <td>5.0</td>\n",
       "      <td>3.2</td>\n",
       "      <td>1.2</td>\n",
       "      <td>0.2</td>\n",
       "      <td>Iris-setosa</td>\n",
       "    </tr>\n",
       "    <tr>\n",
       "      <th>40</th>\n",
       "      <td>41</td>\n",
       "      <td>5.0</td>\n",
       "      <td>3.5</td>\n",
       "      <td>1.3</td>\n",
       "      <td>0.3</td>\n",
       "      <td>Iris-setosa</td>\n",
       "    </tr>\n",
       "    <tr>\n",
       "      <th>43</th>\n",
       "      <td>44</td>\n",
       "      <td>5.0</td>\n",
       "      <td>3.5</td>\n",
       "      <td>1.6</td>\n",
       "      <td>0.6</td>\n",
       "      <td>Iris-setosa</td>\n",
       "    </tr>\n",
       "    <tr>\n",
       "      <th>49</th>\n",
       "      <td>50</td>\n",
       "      <td>5.0</td>\n",
       "      <td>3.3</td>\n",
       "      <td>1.4</td>\n",
       "      <td>0.2</td>\n",
       "      <td>Iris-setosa</td>\n",
       "    </tr>\n",
       "    <tr>\n",
       "      <th>60</th>\n",
       "      <td>61</td>\n",
       "      <td>5.0</td>\n",
       "      <td>2.0</td>\n",
       "      <td>3.5</td>\n",
       "      <td>1.0</td>\n",
       "      <td>Iris-versicolor</td>\n",
       "    </tr>\n",
       "    <tr>\n",
       "      <th>93</th>\n",
       "      <td>94</td>\n",
       "      <td>5.0</td>\n",
       "      <td>2.3</td>\n",
       "      <td>3.3</td>\n",
       "      <td>1.0</td>\n",
       "      <td>Iris-versicolor</td>\n",
       "    </tr>\n",
       "  </tbody>\n",
       "</table>\n",
       "</div>"
      ],
      "text/plain": [
       "    Id  SepalLengthCm  SepalWidthCm  PetalLengthCm  PetalWidthCm  \\\n",
       "4    5            5.0           3.6            1.4           0.2   \n",
       "7    8            5.0           3.4            1.5           0.2   \n",
       "25  26            5.0           3.0            1.6           0.2   \n",
       "26  27            5.0           3.4            1.6           0.4   \n",
       "35  36            5.0           3.2            1.2           0.2   \n",
       "40  41            5.0           3.5            1.3           0.3   \n",
       "43  44            5.0           3.5            1.6           0.6   \n",
       "49  50            5.0           3.3            1.4           0.2   \n",
       "60  61            5.0           2.0            3.5           1.0   \n",
       "93  94            5.0           2.3            3.3           1.0   \n",
       "\n",
       "            Species  \n",
       "4       Iris-setosa  \n",
       "7       Iris-setosa  \n",
       "25      Iris-setosa  \n",
       "26      Iris-setosa  \n",
       "35      Iris-setosa  \n",
       "40      Iris-setosa  \n",
       "43      Iris-setosa  \n",
       "49      Iris-setosa  \n",
       "60  Iris-versicolor  \n",
       "93  Iris-versicolor  "
      ]
     },
     "execution_count": 41,
     "metadata": {},
     "output_type": "execute_result"
    }
   ],
   "source": [
    "iris[iris[\"SepalLengthCm\"]==5]"
   ]
  }
 ],
 "metadata": {
  "kernelspec": {
   "display_name": "Python 3",
   "language": "python",
   "name": "python3"
  },
  "language_info": {
   "codemirror_mode": {
    "name": "ipython",
    "version": 3
   },
   "file_extension": ".py",
   "mimetype": "text/x-python",
   "name": "python",
   "nbconvert_exporter": "python",
   "pygments_lexer": "ipython3",
   "version": "3.7.3"
  }
 },
 "nbformat": 4,
 "nbformat_minor": 2
}
