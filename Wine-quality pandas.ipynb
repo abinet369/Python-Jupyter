{
 "cells": [
  {
   "cell_type": "code",
   "execution_count": 1,
   "metadata": {},
   "outputs": [
    {
     "name": "stdout",
     "output_type": "stream",
     "text": [
      "      fixed acidity  volatile acidity  citric acid  residual sugar  chlorides  \\\n",
      "0               7.4             0.700         0.00             1.9      0.076   \n",
      "1               7.8             0.880         0.00             2.6      0.098   \n",
      "2               7.8             0.760         0.04             2.3      0.092   \n",
      "3              11.2             0.280         0.56             1.9      0.075   \n",
      "4               7.4             0.700         0.00             1.9      0.076   \n",
      "5               7.4             0.660         0.00             1.8      0.075   \n",
      "6               7.9             0.600         0.06             1.6      0.069   \n",
      "7               7.3             0.650         0.00             1.2      0.065   \n",
      "8               7.8             0.580         0.02             2.0      0.073   \n",
      "9               7.5             0.500         0.36             6.1      0.071   \n",
      "10              6.7             0.580         0.08             1.8      0.097   \n",
      "11              7.5             0.500         0.36             6.1      0.071   \n",
      "12              5.6             0.615         0.00             1.6      0.089   \n",
      "13              7.8             0.610         0.29             1.6      0.114   \n",
      "14              8.9             0.620         0.18             3.8      0.176   \n",
      "15              8.9             0.620         0.19             3.9      0.170   \n",
      "16              8.5             0.280         0.56             1.8      0.092   \n",
      "17              8.1             0.560         0.28             1.7      0.368   \n",
      "18              7.4             0.590         0.08             4.4      0.086   \n",
      "19              7.9             0.320         0.51             1.8      0.341   \n",
      "20              8.9             0.220         0.48             1.8      0.077   \n",
      "21              7.6             0.390         0.31             2.3      0.082   \n",
      "22              7.9             0.430         0.21             1.6      0.106   \n",
      "23              8.5             0.490         0.11             2.3      0.084   \n",
      "24              6.9             0.400         0.14             2.4      0.085   \n",
      "25              6.3             0.390         0.16             1.4      0.080   \n",
      "26              7.6             0.410         0.24             1.8      0.080   \n",
      "27              7.9             0.430         0.21             1.6      0.106   \n",
      "28              7.1             0.710         0.00             1.9      0.080   \n",
      "29              7.8             0.645         0.00             2.0      0.082   \n",
      "...             ...               ...          ...             ...        ...   \n",
      "1569            6.2             0.510         0.14             1.9      0.056   \n",
      "1570            6.4             0.360         0.53             2.2      0.230   \n",
      "1571            6.4             0.380         0.14             2.2      0.038   \n",
      "1572            7.3             0.690         0.32             2.2      0.069   \n",
      "1573            6.0             0.580         0.20             2.4      0.075   \n",
      "1574            5.6             0.310         0.78            13.9      0.074   \n",
      "1575            7.5             0.520         0.40             2.2      0.060   \n",
      "1576            8.0             0.300         0.63             1.6      0.081   \n",
      "1577            6.2             0.700         0.15             5.1      0.076   \n",
      "1578            6.8             0.670         0.15             1.8      0.118   \n",
      "1579            6.2             0.560         0.09             1.7      0.053   \n",
      "1580            7.4             0.350         0.33             2.4      0.068   \n",
      "1581            6.2             0.560         0.09             1.7      0.053   \n",
      "1582            6.1             0.715         0.10             2.6      0.053   \n",
      "1583            6.2             0.460         0.29             2.1      0.074   \n",
      "1584            6.7             0.320         0.44             2.4      0.061   \n",
      "1585            7.2             0.390         0.44             2.6      0.066   \n",
      "1586            7.5             0.310         0.41             2.4      0.065   \n",
      "1587            5.8             0.610         0.11             1.8      0.066   \n",
      "1588            7.2             0.660         0.33             2.5      0.068   \n",
      "1589            6.6             0.725         0.20             7.8      0.073   \n",
      "1590            6.3             0.550         0.15             1.8      0.077   \n",
      "1591            5.4             0.740         0.09             1.7      0.089   \n",
      "1592            6.3             0.510         0.13             2.3      0.076   \n",
      "1593            6.8             0.620         0.08             1.9      0.068   \n",
      "1594            6.2             0.600         0.08             2.0      0.090   \n",
      "1595            5.9             0.550         0.10             2.2      0.062   \n",
      "1596            6.3             0.510         0.13             2.3      0.076   \n",
      "1597            5.9             0.645         0.12             2.0      0.075   \n",
      "1598            6.0             0.310         0.47             3.6      0.067   \n",
      "\n",
      "      free sulfur dioxide  total sulfur dioxide  density    pH  sulphates  \\\n",
      "0                    11.0                  34.0  0.99780  3.51       0.56   \n",
      "1                    25.0                  67.0  0.99680  3.20       0.68   \n",
      "2                    15.0                  54.0  0.99700  3.26       0.65   \n",
      "3                    17.0                  60.0  0.99800  3.16       0.58   \n",
      "4                    11.0                  34.0  0.99780  3.51       0.56   \n",
      "5                    13.0                  40.0  0.99780  3.51       0.56   \n",
      "6                    15.0                  59.0  0.99640  3.30       0.46   \n",
      "7                    15.0                  21.0  0.99460  3.39       0.47   \n",
      "8                     9.0                  18.0  0.99680  3.36       0.57   \n",
      "9                    17.0                 102.0  0.99780  3.35       0.80   \n",
      "10                   15.0                  65.0  0.99590  3.28       0.54   \n",
      "11                   17.0                 102.0  0.99780  3.35       0.80   \n",
      "12                   16.0                  59.0  0.99430  3.58       0.52   \n",
      "13                    9.0                  29.0  0.99740  3.26       1.56   \n",
      "14                   52.0                 145.0  0.99860  3.16       0.88   \n",
      "15                   51.0                 148.0  0.99860  3.17       0.93   \n",
      "16                   35.0                 103.0  0.99690  3.30       0.75   \n",
      "17                   16.0                  56.0  0.99680  3.11       1.28   \n",
      "18                    6.0                  29.0  0.99740  3.38       0.50   \n",
      "19                   17.0                  56.0  0.99690  3.04       1.08   \n",
      "20                   29.0                  60.0  0.99680  3.39       0.53   \n",
      "21                   23.0                  71.0  0.99820  3.52       0.65   \n",
      "22                   10.0                  37.0  0.99660  3.17       0.91   \n",
      "23                    9.0                  67.0  0.99680  3.17       0.53   \n",
      "24                   21.0                  40.0  0.99680  3.43       0.63   \n",
      "25                   11.0                  23.0  0.99550  3.34       0.56   \n",
      "26                    4.0                  11.0  0.99620  3.28       0.59   \n",
      "27                   10.0                  37.0  0.99660  3.17       0.91   \n",
      "28                   14.0                  35.0  0.99720  3.47       0.55   \n",
      "29                    8.0                  16.0  0.99640  3.38       0.59   \n",
      "...                   ...                   ...      ...   ...        ...   \n",
      "1569                 15.0                  34.0  0.99396  3.48       0.57   \n",
      "1570                 19.0                  35.0  0.99340  3.37       0.93   \n",
      "1571                 15.0                  25.0  0.99514  3.44       0.65   \n",
      "1572                 35.0                 104.0  0.99632  3.33       0.51   \n",
      "1573                 15.0                  50.0  0.99467  3.58       0.67   \n",
      "1574                 23.0                  92.0  0.99677  3.39       0.48   \n",
      "1575                 12.0                  20.0  0.99474  3.26       0.64   \n",
      "1576                 16.0                  29.0  0.99588  3.30       0.78   \n",
      "1577                 13.0                  27.0  0.99622  3.54       0.60   \n",
      "1578                 13.0                  20.0  0.99540  3.42       0.67   \n",
      "1579                 24.0                  32.0  0.99402  3.54       0.60   \n",
      "1580                  9.0                  26.0  0.99470  3.36       0.60   \n",
      "1581                 24.0                  32.0  0.99402  3.54       0.60   \n",
      "1582                 13.0                  27.0  0.99362  3.57       0.50   \n",
      "1583                 32.0                  98.0  0.99578  3.33       0.62   \n",
      "1584                 24.0                  34.0  0.99484  3.29       0.80   \n",
      "1585                 22.0                  48.0  0.99494  3.30       0.84   \n",
      "1586                 34.0                  60.0  0.99492  3.34       0.85   \n",
      "1587                 18.0                  28.0  0.99483  3.55       0.66   \n",
      "1588                 34.0                 102.0  0.99414  3.27       0.78   \n",
      "1589                 29.0                  79.0  0.99770  3.29       0.54   \n",
      "1590                 26.0                  35.0  0.99314  3.32       0.82   \n",
      "1591                 16.0                  26.0  0.99402  3.67       0.56   \n",
      "1592                 29.0                  40.0  0.99574  3.42       0.75   \n",
      "1593                 28.0                  38.0  0.99651  3.42       0.82   \n",
      "1594                 32.0                  44.0  0.99490  3.45       0.58   \n",
      "1595                 39.0                  51.0  0.99512  3.52       0.76   \n",
      "1596                 29.0                  40.0  0.99574  3.42       0.75   \n",
      "1597                 32.0                  44.0  0.99547  3.57       0.71   \n",
      "1598                 18.0                  42.0  0.99549  3.39       0.66   \n",
      "\n",
      "      alcohol  quality  \n",
      "0         9.4        5  \n",
      "1         9.8        5  \n",
      "2         9.8        5  \n",
      "3         9.8        6  \n",
      "4         9.4        5  \n",
      "5         9.4        5  \n",
      "6         9.4        5  \n",
      "7        10.0        7  \n",
      "8         9.5        7  \n",
      "9        10.5        5  \n",
      "10        9.2        5  \n",
      "11       10.5        5  \n",
      "12        9.9        5  \n",
      "13        9.1        5  \n",
      "14        9.2        5  \n",
      "15        9.2        5  \n",
      "16       10.5        7  \n",
      "17        9.3        5  \n",
      "18        9.0        4  \n",
      "19        9.2        6  \n",
      "20        9.4        6  \n",
      "21        9.7        5  \n",
      "22        9.5        5  \n",
      "23        9.4        5  \n",
      "24        9.7        6  \n",
      "25        9.3        5  \n",
      "26        9.5        5  \n",
      "27        9.5        5  \n",
      "28        9.4        5  \n",
      "29        9.8        6  \n",
      "...       ...      ...  \n",
      "1569     11.5        6  \n",
      "1570     12.4        6  \n",
      "1571     11.1        6  \n",
      "1572      9.5        5  \n",
      "1573     12.5        6  \n",
      "1574     10.5        6  \n",
      "1575     11.8        6  \n",
      "1576     10.8        6  \n",
      "1577     11.9        6  \n",
      "1578     11.3        6  \n",
      "1579     11.3        5  \n",
      "1580     11.9        6  \n",
      "1581     11.3        5  \n",
      "1582     11.9        5  \n",
      "1583      9.8        5  \n",
      "1584     11.6        7  \n",
      "1585     11.5        6  \n",
      "1586     11.4        6  \n",
      "1587     10.9        6  \n",
      "1588     12.8        6  \n",
      "1589      9.2        5  \n",
      "1590     11.6        6  \n",
      "1591     11.6        6  \n",
      "1592     11.0        6  \n",
      "1593      9.5        6  \n",
      "1594     10.5        5  \n",
      "1595     11.2        6  \n",
      "1596     11.0        6  \n",
      "1597     10.2        5  \n",
      "1598     11.0        6  \n",
      "\n",
      "[1599 rows x 12 columns]\n"
     ]
    }
   ],
   "source": [
    "import pandas as pd\n",
    "wine=pd.read_csv(r'C:\\Users\\abine\\OneDrive\\Documents\\Datasets\\wine_quality\\winequality-red.csv',delimiter=';')\n",
    "print(wine)"
   ]
  },
  {
   "cell_type": "code",
   "execution_count": 98,
   "metadata": {},
   "outputs": [
    {
     "data": {
      "text/html": [
       "<div>\n",
       "<style scoped>\n",
       "    .dataframe tbody tr th:only-of-type {\n",
       "        vertical-align: middle;\n",
       "    }\n",
       "\n",
       "    .dataframe tbody tr th {\n",
       "        vertical-align: top;\n",
       "    }\n",
       "\n",
       "    .dataframe thead th {\n",
       "        text-align: right;\n",
       "    }\n",
       "</style>\n",
       "<table border=\"1\" class=\"dataframe\">\n",
       "  <thead>\n",
       "    <tr style=\"text-align: right;\">\n",
       "      <th></th>\n",
       "      <th>fixed acidity</th>\n",
       "      <th>volatile acidity</th>\n",
       "      <th>citric acid</th>\n",
       "      <th>density</th>\n",
       "      <th>pH</th>\n",
       "      <th>alcohol</th>\n",
       "      <th>quality</th>\n",
       "    </tr>\n",
       "  </thead>\n",
       "  <tbody>\n",
       "    <tr>\n",
       "      <th>count</th>\n",
       "      <td>1599.000000</td>\n",
       "      <td>1599.000000</td>\n",
       "      <td>1599.000000</td>\n",
       "      <td>1599.000000</td>\n",
       "      <td>1599.000000</td>\n",
       "      <td>1599.000000</td>\n",
       "      <td>1599.000000</td>\n",
       "    </tr>\n",
       "    <tr>\n",
       "      <th>mean</th>\n",
       "      <td>8.319637</td>\n",
       "      <td>0.527821</td>\n",
       "      <td>0.270976</td>\n",
       "      <td>0.996747</td>\n",
       "      <td>3.311113</td>\n",
       "      <td>10.422983</td>\n",
       "      <td>5.636023</td>\n",
       "    </tr>\n",
       "    <tr>\n",
       "      <th>std</th>\n",
       "      <td>1.741096</td>\n",
       "      <td>0.179060</td>\n",
       "      <td>0.194801</td>\n",
       "      <td>0.001887</td>\n",
       "      <td>0.154386</td>\n",
       "      <td>1.065668</td>\n",
       "      <td>0.807569</td>\n",
       "    </tr>\n",
       "    <tr>\n",
       "      <th>min</th>\n",
       "      <td>4.600000</td>\n",
       "      <td>0.120000</td>\n",
       "      <td>0.000000</td>\n",
       "      <td>0.990070</td>\n",
       "      <td>2.740000</td>\n",
       "      <td>8.400000</td>\n",
       "      <td>3.000000</td>\n",
       "    </tr>\n",
       "    <tr>\n",
       "      <th>25%</th>\n",
       "      <td>7.100000</td>\n",
       "      <td>0.390000</td>\n",
       "      <td>0.090000</td>\n",
       "      <td>0.995600</td>\n",
       "      <td>3.210000</td>\n",
       "      <td>9.500000</td>\n",
       "      <td>5.000000</td>\n",
       "    </tr>\n",
       "    <tr>\n",
       "      <th>50%</th>\n",
       "      <td>7.900000</td>\n",
       "      <td>0.520000</td>\n",
       "      <td>0.260000</td>\n",
       "      <td>0.996750</td>\n",
       "      <td>3.310000</td>\n",
       "      <td>10.200000</td>\n",
       "      <td>6.000000</td>\n",
       "    </tr>\n",
       "    <tr>\n",
       "      <th>75%</th>\n",
       "      <td>9.200000</td>\n",
       "      <td>0.640000</td>\n",
       "      <td>0.420000</td>\n",
       "      <td>0.997835</td>\n",
       "      <td>3.400000</td>\n",
       "      <td>11.100000</td>\n",
       "      <td>6.000000</td>\n",
       "    </tr>\n",
       "    <tr>\n",
       "      <th>max</th>\n",
       "      <td>15.900000</td>\n",
       "      <td>1.580000</td>\n",
       "      <td>1.000000</td>\n",
       "      <td>1.003690</td>\n",
       "      <td>4.010000</td>\n",
       "      <td>14.900000</td>\n",
       "      <td>8.000000</td>\n",
       "    </tr>\n",
       "  </tbody>\n",
       "</table>\n",
       "</div>"
      ],
      "text/plain": [
       "       fixed acidity  volatile acidity  citric acid      density           pH  \\\n",
       "count    1599.000000       1599.000000  1599.000000  1599.000000  1599.000000   \n",
       "mean        8.319637          0.527821     0.270976     0.996747     3.311113   \n",
       "std         1.741096          0.179060     0.194801     0.001887     0.154386   \n",
       "min         4.600000          0.120000     0.000000     0.990070     2.740000   \n",
       "25%         7.100000          0.390000     0.090000     0.995600     3.210000   \n",
       "50%         7.900000          0.520000     0.260000     0.996750     3.310000   \n",
       "75%         9.200000          0.640000     0.420000     0.997835     3.400000   \n",
       "max        15.900000          1.580000     1.000000     1.003690     4.010000   \n",
       "\n",
       "           alcohol      quality  \n",
       "count  1599.000000  1599.000000  \n",
       "mean     10.422983     5.636023  \n",
       "std       1.065668     0.807569  \n",
       "min       8.400000     3.000000  \n",
       "25%       9.500000     5.000000  \n",
       "50%      10.200000     6.000000  \n",
       "75%      11.100000     6.000000  \n",
       "max      14.900000     8.000000  "
      ]
     },
     "execution_count": 98,
     "metadata": {},
     "output_type": "execute_result"
    }
   ],
   "source": [
    "wine.describe()[[\"fixed acidity\",\"volatile acidity\",\"citric acid\",\"density\",\"pH\",\"alcohol\",\"quality\"]]"
   ]
  },
  {
   "cell_type": "code",
   "execution_count": 217,
   "metadata": {},
   "outputs": [
    {
     "name": "stdout",
     "output_type": "stream",
     "text": [
      "MEAN\n",
      "pH          3.311113\n",
      "alcohol    10.422983\n",
      "quality     5.636023\n",
      "dtype: float64\n"
     ]
    }
   ],
   "source": [
    "print(\"MEAN\")\n",
    "print(wine[[\"pH\",\"alcohol\",\"quality\"]].mean())"
   ]
  },
  {
   "cell_type": "code",
   "execution_count": 100,
   "metadata": {},
   "outputs": [
    {
     "name": "stdout",
     "output_type": "stream",
     "text": [
      "MODE\n",
      "    pH  alcohol  quality\n",
      "0  3.3      9.5        5\n"
     ]
    }
   ],
   "source": [
    "print(\"MODE\")\n",
    "print(wine[[\"pH\",\"alcohol\",\"quality\"]].mode())"
   ]
  },
  {
   "cell_type": "code",
   "execution_count": 101,
   "metadata": {},
   "outputs": [
    {
     "name": "stdout",
     "output_type": "stream",
     "text": [
      "MEDIAN\n",
      "pH          3.31\n",
      "alcohol    10.20\n",
      "quality     6.00\n",
      "dtype: float64\n"
     ]
    }
   ],
   "source": [
    "print(\"MEDIAN\")\n",
    "print(wine[[\"pH\",\"alcohol\",\"quality\"]].median())"
   ]
  },
  {
   "cell_type": "code",
   "execution_count": 102,
   "metadata": {
    "scrolled": true
   },
   "outputs": [
    {
     "data": {
      "text/html": [
       "<div>\n",
       "<style scoped>\n",
       "    .dataframe tbody tr th:only-of-type {\n",
       "        vertical-align: middle;\n",
       "    }\n",
       "\n",
       "    .dataframe tbody tr th {\n",
       "        vertical-align: top;\n",
       "    }\n",
       "\n",
       "    .dataframe thead th {\n",
       "        text-align: right;\n",
       "    }\n",
       "</style>\n",
       "<table border=\"1\" class=\"dataframe\">\n",
       "  <thead>\n",
       "    <tr style=\"text-align: right;\">\n",
       "      <th></th>\n",
       "      <th>fixed acidity</th>\n",
       "      <th>volatile acidity</th>\n",
       "      <th>citric acid</th>\n",
       "      <th>density</th>\n",
       "      <th>pH</th>\n",
       "      <th>alcohol</th>\n",
       "      <th>quality</th>\n",
       "    </tr>\n",
       "  </thead>\n",
       "  <tbody>\n",
       "    <tr>\n",
       "      <th>count</th>\n",
       "      <td>217.000000</td>\n",
       "      <td>217.000000</td>\n",
       "      <td>217.000000</td>\n",
       "      <td>217.000000</td>\n",
       "      <td>217.000000</td>\n",
       "      <td>217.000000</td>\n",
       "      <td>217.000000</td>\n",
       "    </tr>\n",
       "    <tr>\n",
       "      <th>mean</th>\n",
       "      <td>8.847005</td>\n",
       "      <td>0.405530</td>\n",
       "      <td>0.376498</td>\n",
       "      <td>0.996030</td>\n",
       "      <td>3.288802</td>\n",
       "      <td>11.518049</td>\n",
       "      <td>7.082949</td>\n",
       "    </tr>\n",
       "    <tr>\n",
       "      <th>std</th>\n",
       "      <td>1.999977</td>\n",
       "      <td>0.144963</td>\n",
       "      <td>0.194438</td>\n",
       "      <td>0.002201</td>\n",
       "      <td>0.154478</td>\n",
       "      <td>0.998153</td>\n",
       "      <td>0.276443</td>\n",
       "    </tr>\n",
       "    <tr>\n",
       "      <th>min</th>\n",
       "      <td>4.900000</td>\n",
       "      <td>0.120000</td>\n",
       "      <td>0.000000</td>\n",
       "      <td>0.990640</td>\n",
       "      <td>2.880000</td>\n",
       "      <td>9.200000</td>\n",
       "      <td>7.000000</td>\n",
       "    </tr>\n",
       "    <tr>\n",
       "      <th>25%</th>\n",
       "      <td>7.400000</td>\n",
       "      <td>0.300000</td>\n",
       "      <td>0.300000</td>\n",
       "      <td>0.994700</td>\n",
       "      <td>3.200000</td>\n",
       "      <td>10.800000</td>\n",
       "      <td>7.000000</td>\n",
       "    </tr>\n",
       "    <tr>\n",
       "      <th>50%</th>\n",
       "      <td>8.700000</td>\n",
       "      <td>0.370000</td>\n",
       "      <td>0.400000</td>\n",
       "      <td>0.995720</td>\n",
       "      <td>3.270000</td>\n",
       "      <td>11.600000</td>\n",
       "      <td>7.000000</td>\n",
       "    </tr>\n",
       "    <tr>\n",
       "      <th>75%</th>\n",
       "      <td>10.100000</td>\n",
       "      <td>0.490000</td>\n",
       "      <td>0.490000</td>\n",
       "      <td>0.997350</td>\n",
       "      <td>3.380000</td>\n",
       "      <td>12.200000</td>\n",
       "      <td>7.000000</td>\n",
       "    </tr>\n",
       "    <tr>\n",
       "      <th>max</th>\n",
       "      <td>15.600000</td>\n",
       "      <td>0.915000</td>\n",
       "      <td>0.760000</td>\n",
       "      <td>1.003200</td>\n",
       "      <td>3.780000</td>\n",
       "      <td>14.000000</td>\n",
       "      <td>8.000000</td>\n",
       "    </tr>\n",
       "  </tbody>\n",
       "</table>\n",
       "</div>"
      ],
      "text/plain": [
       "       fixed acidity  volatile acidity  citric acid     density          pH  \\\n",
       "count     217.000000        217.000000   217.000000  217.000000  217.000000   \n",
       "mean        8.847005          0.405530     0.376498    0.996030    3.288802   \n",
       "std         1.999977          0.144963     0.194438    0.002201    0.154478   \n",
       "min         4.900000          0.120000     0.000000    0.990640    2.880000   \n",
       "25%         7.400000          0.300000     0.300000    0.994700    3.200000   \n",
       "50%         8.700000          0.370000     0.400000    0.995720    3.270000   \n",
       "75%        10.100000          0.490000     0.490000    0.997350    3.380000   \n",
       "max        15.600000          0.915000     0.760000    1.003200    3.780000   \n",
       "\n",
       "          alcohol     quality  \n",
       "count  217.000000  217.000000  \n",
       "mean    11.518049    7.082949  \n",
       "std      0.998153    0.276443  \n",
       "min      9.200000    7.000000  \n",
       "25%     10.800000    7.000000  \n",
       "50%     11.600000    7.000000  \n",
       "75%     12.200000    7.000000  \n",
       "max     14.000000    8.000000  "
      ]
     },
     "execution_count": 102,
     "metadata": {},
     "output_type": "execute_result"
    }
   ],
   "source": [
    "best=wine.loc[(wine[\"quality\"]==8)|(wine[\"quality\"]==7)]\n",
    "best\n",
    "best.describe()[[\"fixed acidity\",\"volatile acidity\",\"citric acid\",\"density\",\"pH\",\"alcohol\",\"quality\"]]"
   ]
  },
  {
   "cell_type": "code",
   "execution_count": 103,
   "metadata": {
    "scrolled": true
   },
   "outputs": [
    {
     "name": "stdout",
     "output_type": "stream",
     "text": [
      "MODE\n",
      "     pH  alcohol  quality\n",
      "0  3.26     11.0      7.0\n",
      "1   NaN     11.7      NaN\n"
     ]
    }
   ],
   "source": [
    "print(\"MODE\")\n",
    "print(best[[\"pH\",\"alcohol\",\"quality\"]].mode())"
   ]
  },
  {
   "cell_type": "code",
   "execution_count": 86,
   "metadata": {
    "scrolled": true
   },
   "outputs": [
    {
     "data": {
      "text/plain": [
       "pH          3.31\n",
       "alcohol    10.20\n",
       "quality     6.00\n",
       "dtype: float64"
      ]
     },
     "execution_count": 86,
     "metadata": {},
     "output_type": "execute_result"
    }
   ],
   "source": [
    "wine[[\"pH\",\"alcohol\",\"quality\"]].median()"
   ]
  },
  {
   "cell_type": "code",
   "execution_count": 220,
   "metadata": {},
   "outputs": [
    {
     "data": {
      "text/plain": [
       "array([3, 4, 5, 6, 7, 8], dtype=int64)"
      ]
     },
     "execution_count": 220,
     "metadata": {},
     "output_type": "execute_result"
    }
   ],
   "source": [
    "wine.sort_values(by=\"quality\")[[\"quality\"]][\"quality\"].unique()"
   ]
  },
  {
   "cell_type": "code",
   "execution_count": 80,
   "metadata": {},
   "outputs": [],
   "source": [
    "#sort=wine.sort_values(by=\"quality\",ascending=False)[[\"pH\",\"alcohol\",\"quality\"]]\n",
    "#print(sort)"
   ]
  },
  {
   "cell_type": "code",
   "execution_count": 77,
   "metadata": {},
   "outputs": [],
   "source": [
    "#print(wine.sort_values(by=\"alcohol\",ascending=False)[[\"pH\",\"alcohol\",\"quality\"]])"
   ]
  },
  {
   "cell_type": "code",
   "execution_count": 76,
   "metadata": {},
   "outputs": [],
   "source": [
    "#print(wine.sort_values(by=\"pH\",ascending=False)[[\"pH\",\"alcohol\",\"quality\"]])"
   ]
  },
  {
   "cell_type": "code",
   "execution_count": 75,
   "metadata": {},
   "outputs": [],
   "source": [
    "#print(wine.sort_values(by=[\"alcohol\",\"pH\"],ascending=False)[[\"pH\",\"alcohol\",\"quality\"]])"
   ]
  },
  {
   "cell_type": "code",
   "execution_count": 113,
   "metadata": {},
   "outputs": [
    {
     "data": {
      "text/plain": [
       "0.9999999999999998"
      ]
     },
     "execution_count": 113,
     "metadata": {},
     "output_type": "execute_result"
    }
   ],
   "source": [
    "wine['quality'].corr(best['quality'])"
   ]
  },
  {
   "cell_type": "code",
   "execution_count": 116,
   "metadata": {},
   "outputs": [
    {
     "data": {
      "text/plain": [
       "1.0"
      ]
     },
     "execution_count": 116,
     "metadata": {},
     "output_type": "execute_result"
    }
   ],
   "source": [
    "wine['pH'].corr(best['pH'])"
   ]
  },
  {
   "cell_type": "code",
   "execution_count": 191,
   "metadata": {},
   "outputs": [
    {
     "name": "stdout",
     "output_type": "stream",
     "text": [
      "           alcohol        pH\n",
      "quality                     \n",
      "3         9.955000  3.398000\n",
      "4        10.265094  3.381509\n",
      "5         9.899706  3.304949\n",
      "6        10.629519  3.318072\n",
      "7        11.465913  3.290754\n",
      "8        12.094444  3.267222\n"
     ]
    }
   ],
   "source": [
    "pvt=wine.pivot_table(index=[\"quality\"],values=[\"alcohol\",\"pH\"],aggfunc=\"mean\")\n",
    "print(pvt)"
   ]
  },
  {
   "cell_type": "code",
   "execution_count": 8,
   "metadata": {},
   "outputs": [
    {
     "name": "stdout",
     "output_type": "stream",
     "text": [
      "           alcohol\n",
      "quality           \n",
      "3         9.955000\n",
      "4        10.265094\n",
      "5         9.899706\n",
      "6        10.629519\n",
      "7        11.465913\n",
      "8        12.094444\n"
     ]
    }
   ],
   "source": [
    "grp=wine.groupby(wine['quality']).mean()\n",
    "srp=grp[[\"alcohol\"]]\n",
    "print(srp)"
   ]
  },
  {
   "cell_type": "code",
   "execution_count": 216,
   "metadata": {},
   "outputs": [
    {
     "name": "stdout",
     "output_type": "stream",
     "text": [
      "        mean_alcohol\n",
      "BAD  3           NaN\n",
      "     4           NaN\n",
      "OK   5           NaN\n",
      "     6           NaN\n",
      "GOOD 7           NaN\n",
      "     8           NaN\n"
     ]
    }
   ],
   "source": [
    "\n",
    "dataset=pd.DataFrame(srp,\n",
    "                     index=[[\"BAD\",\"BAD\",\"OK\",\"OK\",\"GOOD\",\"GOOD\"],[3,4,5,6,7,8]],\n",
    "                     columns=[\"mean_alcohol\"])\n",
    "print(dataset)"
   ]
  },
  {
   "cell_type": "code",
   "execution_count": 194,
   "metadata": {},
   "outputs": [
    {
     "name": "stdout",
     "output_type": "stream",
     "text": [
      "        mean_alcohol  mean_pH\n",
      "BAD  3           NaN      NaN\n",
      "     4           NaN      NaN\n",
      "OK   5           NaN      NaN\n",
      "     6           NaN      NaN\n",
      "GOOD 7           NaN      NaN\n",
      "     8           NaN      NaN\n"
     ]
    }
   ],
   "source": [
    "\n",
    "dataset1=pd.DataFrame(pvt,\n",
    "                     index=[[\"BAD\",\"BAD\",\"OK\",\"OK\",\"GOOD\",\"GOOD\"],[3,4,5,6,7,8]],\n",
    "                     columns=[\"mean_alcohol\",\"mean_pH\"])\n",
    "print(dataset1)"
   ]
  }
 ],
 "metadata": {
  "kernelspec": {
   "display_name": "Python 3",
   "language": "python",
   "name": "python3"
  },
  "language_info": {
   "codemirror_mode": {
    "name": "ipython",
    "version": 3
   },
   "file_extension": ".py",
   "mimetype": "text/x-python",
   "name": "python",
   "nbconvert_exporter": "python",
   "pygments_lexer": "ipython3",
   "version": "3.7.3"
  }
 },
 "nbformat": 4,
 "nbformat_minor": 2
}
