{
 "cells": [
  {
   "cell_type": "code",
   "execution_count": 27,
   "metadata": {},
   "outputs": [
    {
     "data": {
      "text/plain": [
       "array([[   nan,    nan,    nan, ...,    nan,    nan,    nan],\n",
       "       [ 7.4  ,  0.7  ,  0.   , ...,  0.56 ,  9.4  ,  5.   ],\n",
       "       [ 7.8  ,  0.88 ,  0.   , ...,  0.68 ,  9.8  ,  5.   ],\n",
       "       ...,\n",
       "       [ 6.3  ,  0.51 ,  0.13 , ...,  0.75 , 11.   ,  6.   ],\n",
       "       [ 5.9  ,  0.645,  0.12 , ...,  0.71 , 10.2  ,  5.   ],\n",
       "       [ 6.   ,  0.31 ,  0.47 , ...,  0.66 , 11.   ,  6.   ]])"
      ]
     },
     "execution_count": 27,
     "metadata": {},
     "output_type": "execute_result"
    }
   ],
   "source": [
    "import numpy as np\n",
    "#wine=np.genfromtxt(r'C:\\Users\\abine\\OneDrive\\Documents\\Datasets\\wine_quality\\winequality-red.csv',delimiter=';',dtype=[(\"fixed.acidity\",\"f4\"),(\"volatile.acidity\",\"f4\"),(\"citric.acid\",\"f4\"),(\"residual.sugar\",\"f4\"),(\"chlorides\",\"f4\"),(\"free.sulfur.dioxide\",\"f4\"),(\"total.sulfur.dioxide\",\"f4\")(\"density\",\"f4\"),(\"pH\",\"f4\"),(\"sulphates\",\"f4\"),(\"alcohol\",\"f4\"),(\"quality\",\"i4\")])\n",
    "wine=np.genfromtxt(r'C:\\Users\\abine\\OneDrive\\Documents\\Datasets\\wine_quality\\winequality-red.csv',delimiter=';',dtype=float)\n",
    "wine"
   ]
  },
  {
   "cell_type": "code",
   "execution_count": 47,
   "metadata": {},
   "outputs": [
    {
     "name": "stdout",
     "output_type": "stream",
     "text": [
      "MEAN\n",
      "quality 5.6360225140712945\n",
      "alcohol 10.422983114446529\n",
      "STD\n",
      "quality 0.8073168769639513\n",
      "alcohol 1.0653343003437483\n",
      "MIN\n",
      "quality 3.0\n",
      "alcohol 8.4\n",
      "MAX\n",
      "quality 8.0\n",
      "alcohol 14.9\n"
     ]
    }
   ],
   "source": [
    "#print(\"COUNT\")\n",
    "#print(\"quality\",wine[1:,11].count())\n",
    "#print(\"alcohol\",wine[1:,10].count())\n",
    "\n",
    "print(\"MEAN\")\n",
    "print(\"quality\",wine[1:,11].mean())\n",
    "print(\"alcohol\",wine[1:,10].mean())\n",
    "\n",
    "print(\"STD\")\n",
    "print(\"quality\",wine[1:,11].std())\n",
    "print(\"alcohol\",wine[1:,10].std())\n",
    "\n",
    "print(\"MIN\")\n",
    "print(\"quality\",wine[1:,11].min())\n",
    "print(\"alcohol\",wine[1:,10].min())\n",
    "\n",
    "print(\"MAX\")\n",
    "print(\"quality\",wine[1:,11].max())\n",
    "print(\"alcohol\",wine[1:,10].max())"
   ]
  },
  {
   "cell_type": "code",
   "execution_count": 45,
   "metadata": {},
   "outputs": [
    {
     "data": {
      "text/plain": [
       "array([[ 3.51,  9.4 ,  5.  ],\n",
       "       [ 3.2 ,  9.8 ,  5.  ],\n",
       "       [ 3.26,  9.8 ,  5.  ],\n",
       "       ...,\n",
       "       [ 3.42, 11.  ,  6.  ],\n",
       "       [ 3.57, 10.2 ,  5.  ],\n",
       "       [ 3.39, 11.  ,  6.  ]])"
      ]
     },
     "execution_count": 45,
     "metadata": {},
     "output_type": "execute_result"
    }
   ],
   "source": [
    "#8-ph\n",
    "#10-alcohol\n",
    "#11-quality\n",
    "needed=wine[1:,[8,10,11]]\n",
    "needed"
   ]
  }
 ],
 "metadata": {
  "kernelspec": {
   "display_name": "Python 3",
   "language": "python",
   "name": "python3"
  },
  "language_info": {
   "codemirror_mode": {
    "name": "ipython",
    "version": 3
   },
   "file_extension": ".py",
   "mimetype": "text/x-python",
   "name": "python",
   "nbconvert_exporter": "python",
   "pygments_lexer": "ipython3",
   "version": "3.7.3"
  }
 },
 "nbformat": 4,
 "nbformat_minor": 2
}
