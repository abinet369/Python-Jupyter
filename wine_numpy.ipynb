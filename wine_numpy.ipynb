{
 "cells": [
  {
   "cell_type": "code",
   "execution_count": 1,
   "metadata": {},
   "outputs": [
    {
     "data": {
      "text/plain": [
       "array([(nan,   nan,  nan, nan,   nan, nan, nan,     nan,  nan,  nan,  nan, -1),\n",
       "       (7.4, 0.7  , 0.  , 1.9, 0.076, 11., 34., 0.9978 , 3.51, 0.56,  9.4,  5),\n",
       "       (7.8, 0.88 , 0.  , 2.6, 0.098, 25., 67., 0.9968 , 3.2 , 0.68,  9.8,  5),\n",
       "       ...,\n",
       "       (6.3, 0.51 , 0.13, 2.3, 0.076, 29., 40., 0.99574, 3.42, 0.75, 11. ,  6),\n",
       "       (5.9, 0.645, 0.12, 2. , 0.075, 32., 44., 0.99547, 3.57, 0.71, 10.2,  5),\n",
       "       (6. , 0.31 , 0.47, 3.6, 0.067, 18., 42., 0.99549, 3.39, 0.66, 11. ,  6)],\n",
       "      dtype=[('fixed_acidity', '<f4'), ('volatile_acidity', '<f4'), ('citric_acid', '<f4'), ('residual_sugar', '<f4'), ('chlorides', '<f4'), ('free_sulfur_dioxide', '<f4'), ('total_sulfur_dioxide', '<f4'), ('density', '<f4'), ('pH', '<f4'), ('sulphates', '<f4'), ('alcohol', '<f4'), ('quality', '<i4')])"
      ]
     },
     "execution_count": 1,
     "metadata": {},
     "output_type": "execute_result"
    }
   ],
   "source": [
    "import numpy as np\n",
    "wine=np.genfromtxt(r'C:\\Users\\abine\\OneDrive\\Documents\\Datasets\\wine_quality\\winequality-red.csv',delimiter=';',dtype=[('fixed acidity','f4'),('volatile acidity','f4'),('citric acid','f4'),('residual sugar','f4'),('chlorides','f4'),('free sulfur dioxide','f4'),('total sulfur dioxide','f4'),('density','f4'),('pH','f4'),('sulphates','f4'),('alcohol','f4'),('quality','i4')])\n",
    "wine"
   ]
  },
  {
   "cell_type": "code",
   "execution_count": null,
   "metadata": {},
   "outputs": [],
   "source": []
  },
  {
   "cell_type": "code",
   "execution_count": 2,
   "metadata": {},
   "outputs": [
    {
     "data": {
      "text/plain": [
       "array([[  nan,   nan,   nan],\n",
       "       [ 3.51,  9.4 ,  5.  ],\n",
       "       [ 3.2 ,  9.8 ,  5.  ],\n",
       "       ...,\n",
       "       [ 3.42, 11.  ,  6.  ],\n",
       "       [ 3.57, 10.2 ,  5.  ],\n",
       "       [ 3.39, 11.  ,  6.  ]])"
      ]
     },
     "execution_count": 2,
     "metadata": {},
     "output_type": "execute_result"
    }
   ],
   "source": [
    "wine2=np.genfromtxt(r'C:\\Users\\abine\\OneDrive\\Documents\\Datasets\\wine_quality\\winequality-red.csv',delimiter=';',dtype='float',usecols=[8,10,11])\n",
    "wine2"
   ]
  },
  {
   "cell_type": "code",
   "execution_count": 3,
   "metadata": {},
   "outputs": [
    {
     "data": {
      "text/plain": [
       "array([nan,  5.,  5., ...,  6.,  5.,  6.])"
      ]
     },
     "execution_count": 3,
     "metadata": {},
     "output_type": "execute_result"
    }
   ],
   "source": [
    "#indexing\n",
    "wine3=(wine2[:,2])\n",
    "wine3"
   ]
  },
  {
   "cell_type": "code",
   "execution_count": 4,
   "metadata": {},
   "outputs": [],
   "source": [
    "wine3[np.isnan(wine3)]=0"
   ]
  },
  {
   "cell_type": "code",
   "execution_count": 5,
   "metadata": {},
   "outputs": [
    {
     "name": "stdout",
     "output_type": "stream",
     "text": [
      "wine quality mean = 5.6325\n"
     ]
    }
   ],
   "source": [
    "#mean for quality\n",
    "me=np.mean(wine3)\n",
    "print(\"wine quality mean =\",me)"
   ]
  },
  {
   "cell_type": "code",
   "execution_count": 6,
   "metadata": {},
   "outputs": [
    {
     "data": {
      "text/plain": [
       "array([0., 5., 5., ..., 6., 5., 6.])"
      ]
     },
     "execution_count": 6,
     "metadata": {},
     "output_type": "execute_result"
    }
   ],
   "source": [
    "wine3"
   ]
  },
  {
   "cell_type": "code",
   "execution_count": 65,
   "metadata": {},
   "outputs": [
    {
     "name": "stdout",
     "output_type": "stream",
     "text": [
      "wine quality median =  0.26\n"
     ]
    }
   ],
   "source": [
    "#median for quality\n",
    "md=np.median(wine3)\n",
    "print(\"wine quality median = \",md)"
   ]
  },
  {
   "cell_type": "code",
   "execution_count": 66,
   "metadata": {},
   "outputs": [
    {
     "name": "stdout",
     "output_type": "stream",
     "text": [
      "wine quality standard deviation =  0.19479710588439836\n"
     ]
    }
   ],
   "source": [
    "#standard deviation for quality\n",
    "mo=np.std(wine3)\n",
    "print(\"wine quality standard deviation = \",mo)"
   ]
  },
  {
   "cell_type": "code",
   "execution_count": 56,
   "metadata": {},
   "outputs": [
    {
     "data": {
      "text/plain": [
       "array([  nan, 0.7  , 0.88 , ..., 0.51 , 0.645, 0.31 ])"
      ]
     },
     "execution_count": 56,
     "metadata": {},
     "output_type": "execute_result"
    }
   ],
   "source": [
    "#indexing\n",
    "wine4=(wine2[:,1]\n",
    "wine4\n"
   ]
  },
  {
   "cell_type": "code",
   "execution_count": 61,
   "metadata": {},
   "outputs": [
    {
     "name": "stdout",
     "output_type": "stream",
     "text": [
      " mean alcohol % =  0.527490625\n"
     ]
    }
   ],
   "source": [
    "#mean for alcohol percentage\n",
    "wine4[np.isnan(wine4)]=0\n",
    "me1=np.mean(wine4)\n",
    "print(\" mean alcohol % = \",me1)"
   ]
  },
  {
   "cell_type": "code",
   "execution_count": 63,
   "metadata": {},
   "outputs": [
    {
     "name": "stdout",
     "output_type": "stream",
     "text": [
      "median for alcohol percentage =  0.52\n"
     ]
    }
   ],
   "source": [
    "# median for alcohol percentage\n",
    "mo1=np.median(wine4)\n",
    "print(\"median for alcohol percentage = \",mo1)"
   ]
  },
  {
   "cell_type": "code",
   "execution_count": 64,
   "metadata": {},
   "outputs": [
    {
     "name": "stdout",
     "output_type": "stream",
     "text": [
      "standard deviation for alcohol percentage =  0.17943330909312624\n"
     ]
    }
   ],
   "source": [
    "#standard deviation for alcohol percentage\n",
    "sd1=np.std(wine4)\n",
    "print(\"standard deviation for alcohol percentage = \",sd1)"
   ]
  },
  {
   "cell_type": "code",
   "execution_count": 72,
   "metadata": {},
   "outputs": [
    {
     "name": "stdout",
     "output_type": "stream",
     "text": [
      "sortand order for quality coloumn [( nan,   nan,  nan, nan,   nan, nan, nan,     nan,  nan,  nan,   nan, -1)\n",
      " ( 6.7, 0.76 , 0.02, 1.8, 0.078,  6., 12., 0.996  , 3.55, 0.63,  9.95,  3)\n",
      " ( 6.8, 0.815, 0.  , 1.2, 0.267, 16., 29., 0.99471, 3.32, 0.51,  9.8 ,  3)\n",
      " ...\n",
      " (10.7, 0.35 , 0.53, 2.6, 0.07 ,  5., 16., 0.9972 , 3.15, 0.65, 11.  ,  8)\n",
      " (11.3, 0.62 , 0.67, 5.2, 0.086,  6., 19., 0.9988 , 3.22, 0.69, 13.4 ,  8)\n",
      " (12.6, 0.31 , 0.72, 2.2, 0.072,  6., 29., 0.9987 , 2.88, 0.82,  9.8 ,  8)]\n"
     ]
    }
   ],
   "source": [
    "#sort and order\n",
    "so=np.sort(wine,order=\"quality\")\n",
    "print(\"sortand order for quality coloumn\",so)"
   ]
  },
  {
   "cell_type": "code",
   "execution_count": null,
   "metadata": {},
   "outputs": [],
   "source": []
  },
  {
   "cell_type": "code",
   "execution_count": null,
   "metadata": {},
   "outputs": [],
   "source": []
  }
 ],
 "metadata": {
  "kernelspec": {
   "display_name": "Python 3",
   "language": "python",
   "name": "python3"
  },
  "language_info": {
   "codemirror_mode": {
    "name": "ipython",
    "version": 3
   },
   "file_extension": ".py",
   "mimetype": "text/x-python",
   "name": "python",
   "nbconvert_exporter": "python",
   "pygments_lexer": "ipython3",
   "version": "3.7.3"
  }
 },
 "nbformat": 4,
 "nbformat_minor": 2
}
